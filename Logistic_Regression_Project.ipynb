{
  "nbformat": 4,
  "nbformat_minor": 0,
  "metadata": {
    "colab": {
      "provenance": [],
      "mount_file_id": "1MiQlgT1ZBr85lCNuPlBhm-iXEwXwEqqj",
      "authorship_tag": "ABX9TyMxWM8p6QdppdHqAHzUWDbz",
      "include_colab_link": true
    },
    "kernelspec": {
      "name": "python3",
      "display_name": "Python 3"
    },
    "language_info": {
      "name": "python"
    }
  },
  "cells": [
    {
      "cell_type": "markdown",
      "metadata": {
        "id": "view-in-github",
        "colab_type": "text"
      },
      "source": [
        "<a href=\"https://colab.research.google.com/github/Mayshro/Logistic_Regression_Project/blob/main/Logistic_Regression_Project.ipynb\" target=\"_parent\"><img src=\"https://colab.research.google.com/assets/colab-badge.svg\" alt=\"Open In Colab\"/></a>"
      ]
    },
    {
      "cell_type": "code",
      "source": [
        "import pandas as pd\n",
        "import numpy as np\n",
        "from sklearn import preprocessing\n",
        "import matplotlib.pyplot as plt\n",
        "plt.rc(\"font\", size=14)\n",
        "from sklearn.linear_model import LogisticRegression\n",
        "from sklearn.model_selection import train_test_split\n",
        "import seaborn as sns\n",
        "sns.set(style=\"white\")\n",
        "sns.set(style=\"whitegrid\",color_codes=True)\n"
      ],
      "metadata": {
        "id": "oRRj1cfgdyrh"
      },
      "execution_count": 271,
      "outputs": []
    },
    {
      "cell_type": "markdown",
      "source": [
        "\n",
        "```\n",
        "Section I : Data Loading\n"
      ],
      "metadata": {
        "id": "Htvpid3HmhPN"
      }
    },
    {
      "cell_type": "markdown",
      "source": [
        "Part I : Load the dataset into the notebook"
      ],
      "metadata": {
        "id": "1Dvn3HOibad5"
      }
    },
    {
      "cell_type": "code",
      "execution_count": 272,
      "metadata": {
        "id": "XX4eOG7SkA0t"
      },
      "outputs": [],
      "source": [
        "data_path = '/content/drive/MyDrive/portu_banking_final.csv'"
      ]
    },
    {
      "cell_type": "code",
      "source": [
        "data = pd.read_csv(data_path)"
      ],
      "metadata": {
        "colab": {
          "base_uri": "https://localhost:8080/"
        },
        "id": "WER4UJTmQvfG",
        "outputId": "182daaad-187c-4ed0-b104-92144d421e8d"
      },
      "execution_count": 273,
      "outputs": [
        {
          "output_type": "stream",
          "name": "stderr",
          "text": [
            "/usr/local/lib/python3.7/dist-packages/IPython/core/interactiveshell.py:3326: DtypeWarning: Columns (0) have mixed types.Specify dtype option on import or set low_memory=False.\n",
            "  exec(code_obj, self.user_global_ns, self.user_ns)\n"
          ]
        }
      ]
    },
    {
      "cell_type": "code",
      "source": [
        "data.head()"
      ],
      "metadata": {
        "colab": {
          "base_uri": "https://localhost:8080/",
          "height": 299
        },
        "id": "2KukOaIFQ3Zv",
        "outputId": "63d45678-8fc5-477b-dc33-f961e24026c0"
      },
      "execution_count": 274,
      "outputs": [
        {
          "output_type": "execute_result",
          "data": {
            "text/plain": [
              "  age          job  marital          education  default housing loan  \\\n",
              "0  44  blue-collar  married           basic.4y  unknown     yes   no   \n",
              "1  53   technician  married            unknown       no      no   no   \n",
              "2  28   management   single  university.degree       no     yes   no   \n",
              "3  39     services  married        high.school       no      no   no   \n",
              "4  55      retired  married           basic.4y       no     yes   no   \n",
              "\n",
              "    contact month day_of_week  ...  campaign  pdays  previous     poutcome  \\\n",
              "0  cellular   aug         thu  ...         1  999.0         0  nonexistent   \n",
              "1  cellular   nov         fri  ...         1  999.0         0  nonexistent   \n",
              "2  cellular   jun         thu  ...         3    6.0         2      success   \n",
              "3  cellular   apr         fri  ...         2  999.0         0  nonexistent   \n",
              "4  cellular   aug         fri  ...         1    3.0         1      success   \n",
              "\n",
              "  emp_var_rate  cons_price_idx  cons_conf_idx  euribor3m  nr_employed  y  \n",
              "0          1.4          93.444          -36.1      4.963       5228.1  0  \n",
              "1         -0.1          93.200          -42.0      4.021       5195.8  0  \n",
              "2         -1.7          94.055          -39.8      0.729       4991.6  1  \n",
              "3         -1.8          93.075          -47.1      1.405       5099.1  0  \n",
              "4         -2.9          92.201          -31.4      0.869       5076.2  1  \n",
              "\n",
              "[5 rows x 21 columns]"
            ],
            "text/html": [
              "\n",
              "  <div id=\"df-2ce04885-cf17-4939-a57d-18848f0acd14\">\n",
              "    <div class=\"colab-df-container\">\n",
              "      <div>\n",
              "<style scoped>\n",
              "    .dataframe tbody tr th:only-of-type {\n",
              "        vertical-align: middle;\n",
              "    }\n",
              "\n",
              "    .dataframe tbody tr th {\n",
              "        vertical-align: top;\n",
              "    }\n",
              "\n",
              "    .dataframe thead th {\n",
              "        text-align: right;\n",
              "    }\n",
              "</style>\n",
              "<table border=\"1\" class=\"dataframe\">\n",
              "  <thead>\n",
              "    <tr style=\"text-align: right;\">\n",
              "      <th></th>\n",
              "      <th>age</th>\n",
              "      <th>job</th>\n",
              "      <th>marital</th>\n",
              "      <th>education</th>\n",
              "      <th>default</th>\n",
              "      <th>housing</th>\n",
              "      <th>loan</th>\n",
              "      <th>contact</th>\n",
              "      <th>month</th>\n",
              "      <th>day_of_week</th>\n",
              "      <th>...</th>\n",
              "      <th>campaign</th>\n",
              "      <th>pdays</th>\n",
              "      <th>previous</th>\n",
              "      <th>poutcome</th>\n",
              "      <th>emp_var_rate</th>\n",
              "      <th>cons_price_idx</th>\n",
              "      <th>cons_conf_idx</th>\n",
              "      <th>euribor3m</th>\n",
              "      <th>nr_employed</th>\n",
              "      <th>y</th>\n",
              "    </tr>\n",
              "  </thead>\n",
              "  <tbody>\n",
              "    <tr>\n",
              "      <th>0</th>\n",
              "      <td>44</td>\n",
              "      <td>blue-collar</td>\n",
              "      <td>married</td>\n",
              "      <td>basic.4y</td>\n",
              "      <td>unknown</td>\n",
              "      <td>yes</td>\n",
              "      <td>no</td>\n",
              "      <td>cellular</td>\n",
              "      <td>aug</td>\n",
              "      <td>thu</td>\n",
              "      <td>...</td>\n",
              "      <td>1</td>\n",
              "      <td>999.0</td>\n",
              "      <td>0</td>\n",
              "      <td>nonexistent</td>\n",
              "      <td>1.4</td>\n",
              "      <td>93.444</td>\n",
              "      <td>-36.1</td>\n",
              "      <td>4.963</td>\n",
              "      <td>5228.1</td>\n",
              "      <td>0</td>\n",
              "    </tr>\n",
              "    <tr>\n",
              "      <th>1</th>\n",
              "      <td>53</td>\n",
              "      <td>technician</td>\n",
              "      <td>married</td>\n",
              "      <td>unknown</td>\n",
              "      <td>no</td>\n",
              "      <td>no</td>\n",
              "      <td>no</td>\n",
              "      <td>cellular</td>\n",
              "      <td>nov</td>\n",
              "      <td>fri</td>\n",
              "      <td>...</td>\n",
              "      <td>1</td>\n",
              "      <td>999.0</td>\n",
              "      <td>0</td>\n",
              "      <td>nonexistent</td>\n",
              "      <td>-0.1</td>\n",
              "      <td>93.200</td>\n",
              "      <td>-42.0</td>\n",
              "      <td>4.021</td>\n",
              "      <td>5195.8</td>\n",
              "      <td>0</td>\n",
              "    </tr>\n",
              "    <tr>\n",
              "      <th>2</th>\n",
              "      <td>28</td>\n",
              "      <td>management</td>\n",
              "      <td>single</td>\n",
              "      <td>university.degree</td>\n",
              "      <td>no</td>\n",
              "      <td>yes</td>\n",
              "      <td>no</td>\n",
              "      <td>cellular</td>\n",
              "      <td>jun</td>\n",
              "      <td>thu</td>\n",
              "      <td>...</td>\n",
              "      <td>3</td>\n",
              "      <td>6.0</td>\n",
              "      <td>2</td>\n",
              "      <td>success</td>\n",
              "      <td>-1.7</td>\n",
              "      <td>94.055</td>\n",
              "      <td>-39.8</td>\n",
              "      <td>0.729</td>\n",
              "      <td>4991.6</td>\n",
              "      <td>1</td>\n",
              "    </tr>\n",
              "    <tr>\n",
              "      <th>3</th>\n",
              "      <td>39</td>\n",
              "      <td>services</td>\n",
              "      <td>married</td>\n",
              "      <td>high.school</td>\n",
              "      <td>no</td>\n",
              "      <td>no</td>\n",
              "      <td>no</td>\n",
              "      <td>cellular</td>\n",
              "      <td>apr</td>\n",
              "      <td>fri</td>\n",
              "      <td>...</td>\n",
              "      <td>2</td>\n",
              "      <td>999.0</td>\n",
              "      <td>0</td>\n",
              "      <td>nonexistent</td>\n",
              "      <td>-1.8</td>\n",
              "      <td>93.075</td>\n",
              "      <td>-47.1</td>\n",
              "      <td>1.405</td>\n",
              "      <td>5099.1</td>\n",
              "      <td>0</td>\n",
              "    </tr>\n",
              "    <tr>\n",
              "      <th>4</th>\n",
              "      <td>55</td>\n",
              "      <td>retired</td>\n",
              "      <td>married</td>\n",
              "      <td>basic.4y</td>\n",
              "      <td>no</td>\n",
              "      <td>yes</td>\n",
              "      <td>no</td>\n",
              "      <td>cellular</td>\n",
              "      <td>aug</td>\n",
              "      <td>fri</td>\n",
              "      <td>...</td>\n",
              "      <td>1</td>\n",
              "      <td>3.0</td>\n",
              "      <td>1</td>\n",
              "      <td>success</td>\n",
              "      <td>-2.9</td>\n",
              "      <td>92.201</td>\n",
              "      <td>-31.4</td>\n",
              "      <td>0.869</td>\n",
              "      <td>5076.2</td>\n",
              "      <td>1</td>\n",
              "    </tr>\n",
              "  </tbody>\n",
              "</table>\n",
              "<p>5 rows × 21 columns</p>\n",
              "</div>\n",
              "      <button class=\"colab-df-convert\" onclick=\"convertToInteractive('df-2ce04885-cf17-4939-a57d-18848f0acd14')\"\n",
              "              title=\"Convert this dataframe to an interactive table.\"\n",
              "              style=\"display:none;\">\n",
              "        \n",
              "  <svg xmlns=\"http://www.w3.org/2000/svg\" height=\"24px\"viewBox=\"0 0 24 24\"\n",
              "       width=\"24px\">\n",
              "    <path d=\"M0 0h24v24H0V0z\" fill=\"none\"/>\n",
              "    <path d=\"M18.56 5.44l.94 2.06.94-2.06 2.06-.94-2.06-.94-.94-2.06-.94 2.06-2.06.94zm-11 1L8.5 8.5l.94-2.06 2.06-.94-2.06-.94L8.5 2.5l-.94 2.06-2.06.94zm10 10l.94 2.06.94-2.06 2.06-.94-2.06-.94-.94-2.06-.94 2.06-2.06.94z\"/><path d=\"M17.41 7.96l-1.37-1.37c-.4-.4-.92-.59-1.43-.59-.52 0-1.04.2-1.43.59L10.3 9.45l-7.72 7.72c-.78.78-.78 2.05 0 2.83L4 21.41c.39.39.9.59 1.41.59.51 0 1.02-.2 1.41-.59l7.78-7.78 2.81-2.81c.8-.78.8-2.07 0-2.86zM5.41 20L4 18.59l7.72-7.72 1.47 1.35L5.41 20z\"/>\n",
              "  </svg>\n",
              "      </button>\n",
              "      \n",
              "  <style>\n",
              "    .colab-df-container {\n",
              "      display:flex;\n",
              "      flex-wrap:wrap;\n",
              "      gap: 12px;\n",
              "    }\n",
              "\n",
              "    .colab-df-convert {\n",
              "      background-color: #E8F0FE;\n",
              "      border: none;\n",
              "      border-radius: 50%;\n",
              "      cursor: pointer;\n",
              "      display: none;\n",
              "      fill: #1967D2;\n",
              "      height: 32px;\n",
              "      padding: 0 0 0 0;\n",
              "      width: 32px;\n",
              "    }\n",
              "\n",
              "    .colab-df-convert:hover {\n",
              "      background-color: #E2EBFA;\n",
              "      box-shadow: 0px 1px 2px rgba(60, 64, 67, 0.3), 0px 1px 3px 1px rgba(60, 64, 67, 0.15);\n",
              "      fill: #174EA6;\n",
              "    }\n",
              "\n",
              "    [theme=dark] .colab-df-convert {\n",
              "      background-color: #3B4455;\n",
              "      fill: #D2E3FC;\n",
              "    }\n",
              "\n",
              "    [theme=dark] .colab-df-convert:hover {\n",
              "      background-color: #434B5C;\n",
              "      box-shadow: 0px 1px 3px 1px rgba(0, 0, 0, 0.15);\n",
              "      filter: drop-shadow(0px 1px 2px rgba(0, 0, 0, 0.3));\n",
              "      fill: #FFFFFF;\n",
              "    }\n",
              "  </style>\n",
              "\n",
              "      <script>\n",
              "        const buttonEl =\n",
              "          document.querySelector('#df-2ce04885-cf17-4939-a57d-18848f0acd14 button.colab-df-convert');\n",
              "        buttonEl.style.display =\n",
              "          google.colab.kernel.accessAllowed ? 'block' : 'none';\n",
              "\n",
              "        async function convertToInteractive(key) {\n",
              "          const element = document.querySelector('#df-2ce04885-cf17-4939-a57d-18848f0acd14');\n",
              "          const dataTable =\n",
              "            await google.colab.kernel.invokeFunction('convertToInteractive',\n",
              "                                                     [key], {});\n",
              "          if (!dataTable) return;\n",
              "\n",
              "          const docLinkHtml = 'Like what you see? Visit the ' +\n",
              "            '<a target=\"_blank\" href=https://colab.research.google.com/notebooks/data_table.ipynb>data table notebook</a>'\n",
              "            + ' to learn more about interactive tables.';\n",
              "          element.innerHTML = '';\n",
              "          dataTable['output_type'] = 'display_data';\n",
              "          await google.colab.output.renderOutput(dataTable, element);\n",
              "          const docLink = document.createElement('div');\n",
              "          docLink.innerHTML = docLinkHtml;\n",
              "          element.appendChild(docLink);\n",
              "        }\n",
              "      </script>\n",
              "    </div>\n",
              "  </div>\n",
              "  "
            ]
          },
          "metadata": {},
          "execution_count": 274
        }
      ]
    },
    {
      "cell_type": "markdown",
      "source": [
        "Part II : Explore and make note of Attribute Information from UCI"
      ],
      "metadata": {
        "id": "TEX9xSvHbca2"
      }
    },
    {
      "cell_type": "markdown",
      "source": [
        "**Input** variables"
      ],
      "metadata": {
        "id": "QRQNq9DQgzJS"
      }
    },
    {
      "cell_type": "markdown",
      "source": [
        "1.age (numeric)\n",
        "\n",
        "2. job: type of job( type of job (categorical: 'admin.','blue-collar','entrepreneur','housemaid','management','retired','self-employed','services','student','technician','unemployed','unknown')\n",
        "\n",
        "3. marital : marital status (categorical: 'divorced','married','single','unknown'; note: 'divorced' means divorced or widowed)\n",
        "\n",
        "4.  education (categorical: 'basic.4y','basic.6y','basic.9y','high.school','illiterate','professional.course','university.degree','unknown')\n",
        "\n",
        "5.  default: has credit in default?\n",
        "    (categorical: 'no','yes','unknown')\n",
        "\n",
        "6.  housing: has housing loan? \n",
        "    (categorical: 'no','yes','unknown')\n",
        "\n",
        "7. loan: has personal loan? \n",
        "   (categorical: 'no','yes','unknown')\n",
        "\n",
        "8.  contact: contact communication type \n",
        "    (categorical: 'cellular','telephone')\n",
        "\n",
        "9. month: last contact month of year\n",
        "   (categorical: 'jan', 'feb', 'mar', ..., 'nov', 'dec')\n",
        "\n",
        "10. day_of_week: last contact day of the week (categorical: 'mon','tue','wed','thu','fri') \n",
        "\n",
        "11. duration: last contact duration, in seconds (numeric). Important note: this attribute highly affects the output target (e.g., if duration=0 then y='no'). Yet, the duration is not known before a call is performed. Also, after the end of the call y is obviously known. Thus, this input should only be included for benchmark purposes and should be discarded if the intention is to have a realistic predictive model.\n",
        "\n",
        "12. campaign: number of contacts performed during this campaign and for this client (numeric, includes last contact)\n",
        "\n",
        "13. pdays: number of days that passed by after the client was last contacted from a previous campaign (numeric; 999 means client was not previously contacted)\n",
        "\n",
        "14. previous:number of contacts performed before this campaign and for this client (numeric)\n",
        "\n",
        "15. poutcome: outcome of the previous marketing campaign (categorical: 'failure','nonexistent','success')\n",
        "\n",
        "16. emp.var.rate: employment variation rate - (numeric)\n",
        "\n",
        "17. cons.price.idx: consumer price index - (numeric)\n",
        "\n",
        "18.cons.conf.idx: consumer confidence index - (numeric)\n",
        "\n",
        "19. euribor3m: euribor 3 month rate - (numeric)\n",
        "\n",
        "20. nr.employed: number of employees - (numeric)\n",
        "\n"
      ],
      "metadata": {
        "id": "E0vE391zg-1I"
      }
    },
    {
      "cell_type": "markdown",
      "source": [
        "Part III : What is the significance of the y column in the dataset and what are the value counts of the y column?"
      ],
      "metadata": {
        "id": "gwOHmtwUoBJA"
      }
    },
    {
      "cell_type": "markdown",
      "source": [
        " y - has the client subscribed a term deposit? (binary: 'yes','no')\n",
        "\n"
      ],
      "metadata": {
        "id": "GAMzeAV2n8Ss"
      }
    },
    {
      "cell_type": "code",
      "source": [
        "data['y'].value_counts()\n"
      ],
      "metadata": {
        "id": "fJHzRYB5k8HD",
        "colab": {
          "base_uri": "https://localhost:8080/"
        },
        "outputId": "67809999-3169-4ad3-e7f4-991c4351857c"
      },
      "execution_count": 275,
      "outputs": [
        {
          "output_type": "execute_result",
          "data": {
            "text/plain": [
              "0    36548\n",
              "1     4640\n",
              "Name: y, dtype: int64"
            ]
          },
          "metadata": {},
          "execution_count": 275
        }
      ]
    },
    {
      "cell_type": "code",
      "source": [
        "sns.countplot(data['y'])\n",
        "plt.show()\n",
        "plt.savefig('count_plot')"
      ],
      "metadata": {
        "id": "YgdnyXvylabR",
        "colab": {
          "base_uri": "https://localhost:8080/",
          "height": 360
        },
        "outputId": "ed342de3-e494-4c0f-b5da-5b68721988ff"
      },
      "execution_count": 276,
      "outputs": [
        {
          "output_type": "stream",
          "name": "stderr",
          "text": [
            "/usr/local/lib/python3.7/dist-packages/seaborn/_decorators.py:43: FutureWarning: Pass the following variable as a keyword arg: x. From version 0.12, the only valid positional argument will be `data`, and passing other arguments without an explicit keyword will result in an error or misinterpretation.\n",
            "  FutureWarning\n"
          ]
        },
        {
          "output_type": "display_data",
          "data": {
            "text/plain": [
              "<Figure size 432x288 with 1 Axes>"
            ],
            "image/png": "[encoded data removed]"
          },
          "metadata": {}
        },
        {
          "output_type": "display_data",
          "data": {
            "text/plain": [
              "<Figure size 432x288 with 0 Axes>"
            ]
          },
          "metadata": {}
        }
      ]
    },
    {
      "cell_type": "markdown",
      "source": [
        "Part IV : What is the ratio of the two classes ? Are they balanced ?"
      ],
      "metadata": {
        "id": "zvDxb-3Ul5yr"
      }
    },
    {
      "cell_type": "code",
      "source": [
        "count_no_sub = len(data[data['y']==0])\n",
        "count_sub = len(data[data['y']==1])\n",
        "pct_of_no_sub = count_no_sub/(count_no_sub+count_sub)\n",
        "print(\"percentage of no subscription is\", pct_of_no_sub*100)\n",
        "pct_of_sub = count_sub/(count_no_sub+count_sub)\n",
        "print(\"percentage of subscription\" , pct_of_sub*100)"
      ],
      "metadata": {
        "id": "-5j5-HUOl7QY",
        "colab": {
          "base_uri": "https://localhost:8080/"
        },
        "outputId": "b903ed09-a136-4f01-d97a-879d3b89ac5f"
      },
      "execution_count": 277,
      "outputs": [
        {
          "output_type": "stream",
          "name": "stdout",
          "text": [
            "percentage of no subscription is 88.73458288821988\n",
            "percentage of subscription 11.265417111780131\n"
          ]
        }
      ]
    },
    {
      "cell_type": "markdown",
      "source": [
        "#Data is imbalanced. lets do some exploration"
      ],
      "metadata": {
        "id": "RX4xphlpej19"
      }
    },
    {
      "cell_type": "code",
      "source": [
        "data.groupby('y').mean()"
      ],
      "metadata": {
        "colab": {
          "base_uri": "https://localhost:8080/",
          "height": 143
        },
        "id": "LchRU5kLew4_",
        "outputId": "46b84da3-4f5a-407c-f867-73cba71a253f"
      },
      "execution_count": 278,
      "outputs": [
        {
          "output_type": "execute_result",
          "data": {
            "text/plain": [
              "     duration  campaign       pdays  previous  emp_var_rate  cons_price_idx  \\\n",
              "y                                                                             \n",
              "0  220.844807  2.633085  985.345135  0.132374      0.248875       93.603757   \n",
              "1  553.191164  2.051724  792.035560  0.492672     -1.233448       93.354386   \n",
              "\n",
              "   cons_conf_idx  euribor3m  nr_employed  \n",
              "y                                         \n",
              "0     -40.593097   3.811491  5176.166600  \n",
              "1     -39.789784   2.123135  5095.115991  "
            ],
            "text/html": [
              "\n",
              "  <div id=\"df-37e1029b-3d70-419d-b9f9-0bb5ccd7a814\">\n",
              "    <div class=\"colab-df-container\">\n",
              "      <div>\n",
              "<style scoped>\n",
              "    .dataframe tbody tr th:only-of-type {\n",
              "        vertical-align: middle;\n",
              "    }\n",
              "\n",
              "    .dataframe tbody tr th {\n",
              "        vertical-align: top;\n",
              "    }\n",
              "\n",
              "    .dataframe thead th {\n",
              "        text-align: right;\n",
              "    }\n",
              "</style>\n",
              "<table border=\"1\" class=\"dataframe\">\n",
              "  <thead>\n",
              "    <tr style=\"text-align: right;\">\n",
              "      <th></th>\n",
              "      <th>duration</th>\n",
              "      <th>campaign</th>\n",
              "      <th>pdays</th>\n",
              "      <th>previous</th>\n",
              "      <th>emp_var_rate</th>\n",
              "      <th>cons_price_idx</th>\n",
              "      <th>cons_conf_idx</th>\n",
              "      <th>euribor3m</th>\n",
              "      <th>nr_employed</th>\n",
              "    </tr>\n",
              "    <tr>\n",
              "      <th>y</th>\n",
              "      <th></th>\n",
              "      <th></th>\n",
              "      <th></th>\n",
              "      <th></th>\n",
              "      <th></th>\n",
              "      <th></th>\n",
              "      <th></th>\n",
              "      <th></th>\n",
              "      <th></th>\n",
              "    </tr>\n",
              "  </thead>\n",
              "  <tbody>\n",
              "    <tr>\n",
              "      <th>0</th>\n",
              "      <td>220.844807</td>\n",
              "      <td>2.633085</td>\n",
              "      <td>985.345135</td>\n",
              "      <td>0.132374</td>\n",
              "      <td>0.248875</td>\n",
              "      <td>93.603757</td>\n",
              "      <td>-40.593097</td>\n",
              "      <td>3.811491</td>\n",
              "      <td>5176.166600</td>\n",
              "    </tr>\n",
              "    <tr>\n",
              "      <th>1</th>\n",
              "      <td>553.191164</td>\n",
              "      <td>2.051724</td>\n",
              "      <td>792.035560</td>\n",
              "      <td>0.492672</td>\n",
              "      <td>-1.233448</td>\n",
              "      <td>93.354386</td>\n",
              "      <td>-39.789784</td>\n",
              "      <td>2.123135</td>\n",
              "      <td>5095.115991</td>\n",
              "    </tr>\n",
              "  </tbody>\n",
              "</table>\n",
              "</div>\n",
              "      <button class=\"colab-df-convert\" onclick=\"convertToInteractive('df-37e1029b-3d70-419d-b9f9-0bb5ccd7a814')\"\n",
              "              title=\"Convert this dataframe to an interactive table.\"\n",
              "              style=\"display:none;\">\n",
              "        \n",
              "  <svg xmlns=\"http://www.w3.org/2000/svg\" height=\"24px\"viewBox=\"0 0 24 24\"\n",
              "       width=\"24px\">\n",
              "    <path d=\"M0 0h24v24H0V0z\" fill=\"none\"/>\n",
              "    <path d=\"M18.56 5.44l.94 2.06.94-2.06 2.06-.94-2.06-.94-.94-2.06-.94 2.06-2.06.94zm-11 1L8.5 8.5l.94-2.06 2.06-.94-2.06-.94L8.5 2.5l-.94 2.06-2.06.94zm10 10l.94 2.06.94-2.06 2.06-.94-2.06-.94-.94-2.06-.94 2.06-2.06.94z\"/><path d=\"M17.41 7.96l-1.37-1.37c-.4-.4-.92-.59-1.43-.59-.52 0-1.04.2-1.43.59L10.3 9.45l-7.72 7.72c-.78.78-.78 2.05 0 2.83L4 21.41c.39.39.9.59 1.41.59.51 0 1.02-.2 1.41-.59l7.78-7.78 2.81-2.81c.8-.78.8-2.07 0-2.86zM5.41 20L4 18.59l7.72-7.72 1.47 1.35L5.41 20z\"/>\n",
              "  </svg>\n",
              "      </button>\n",
              "      \n",
              "  <style>\n",
              "    .colab-df-container {\n",
              "      display:flex;\n",
              "      flex-wrap:wrap;\n",
              "      gap: 12px;\n",
              "    }\n",
              "\n",
              "    .colab-df-convert {\n",
              "      background-color: #E8F0FE;\n",
              "      border: none;\n",
              "      border-radius: 50%;\n",
              "      cursor: pointer;\n",
              "      display: none;\n",
              "      fill: #1967D2;\n",
              "      height: 32px;\n",
              "      padding: 0 0 0 0;\n",
              "      width: 32px;\n",
              "    }\n",
              "\n",
              "    .colab-df-convert:hover {\n",
              "      background-color: #E2EBFA;\n",
              "      box-shadow: 0px 1px 2px rgba(60, 64, 67, 0.3), 0px 1px 3px 1px rgba(60, 64, 67, 0.15);\n",
              "      fill: #174EA6;\n",
              "    }\n",
              "\n",
              "    [theme=dark] .colab-df-convert {\n",
              "      background-color: #3B4455;\n",
              "      fill: #D2E3FC;\n",
              "    }\n",
              "\n",
              "    [theme=dark] .colab-df-convert:hover {\n",
              "      background-color: #434B5C;\n",
              "      box-shadow: 0px 1px 3px 1px rgba(0, 0, 0, 0.15);\n",
              "      filter: drop-shadow(0px 1px 2px rgba(0, 0, 0, 0.3));\n",
              "      fill: #FFFFFF;\n",
              "    }\n",
              "  </style>\n",
              "\n",
              "      <script>\n",
              "        const buttonEl =\n",
              "          document.querySelector('#df-37e1029b-3d70-419d-b9f9-0bb5ccd7a814 button.colab-df-convert');\n",
              "        buttonEl.style.display =\n",
              "          google.colab.kernel.accessAllowed ? 'block' : 'none';\n",
              "\n",
              "        async function convertToInteractive(key) {\n",
              "          const element = document.querySelector('#df-37e1029b-3d70-419d-b9f9-0bb5ccd7a814');\n",
              "          const dataTable =\n",
              "            await google.colab.kernel.invokeFunction('convertToInteractive',\n",
              "                                                     [key], {});\n",
              "          if (!dataTable) return;\n",
              "\n",
              "          const docLinkHtml = 'Like what you see? Visit the ' +\n",
              "            '<a target=\"_blank\" href=https://colab.research.google.com/notebooks/data_table.ipynb>data table notebook</a>'\n",
              "            + ' to learn more about interactive tables.';\n",
              "          element.innerHTML = '';\n",
              "          dataTable['output_type'] = 'display_data';\n",
              "          await google.colab.output.renderOutput(dataTable, element);\n",
              "          const docLink = document.createElement('div');\n",
              "          docLink.innerHTML = docLinkHtml;\n",
              "          element.appendChild(docLink);\n",
              "        }\n",
              "      </script>\n",
              "    </div>\n",
              "  </div>\n",
              "  "
            ]
          },
          "metadata": {},
          "execution_count": 278
        }
      ]
    },
    {
      "cell_type": "markdown",
      "source": [
        "Observations:\n",
        "\n",
        "1. The average age of customers who bought the term deposit is higher than that of customers who didnot.\n",
        "\n",
        "2. The pdays are lowe and as the pdays are lower better the memory of last calland hence the better chances of a sale.\n",
        "\n",
        "3. Calls made during campaign are lower for customers who bought the term deposit.\n",
        "\n",
        "# Calculate the caterorical mean s for other categorical variables such as education and marital statusto get more detailed sense of our data."
      ],
      "metadata": {
        "id": "zFF32zxkfC3q"
      }
    },
    {
      "cell_type": "code",
      "source": [
        "data.groupby('job').mean()"
      ],
      "metadata": {
        "colab": {
          "base_uri": "https://localhost:8080/",
          "height": 739
        },
        "id": "wdU8EfIngZJg",
        "outputId": "af34a3ad-e7f2-48a1-c732-b14f6537e890"
      },
      "execution_count": 279,
      "outputs": [
        {
          "output_type": "execute_result",
          "data": {
            "text/plain": [
              "                  duration  campaign       pdays  previous  emp_var_rate  \\\n",
              "job                                                                        \n",
              "ADMIN.          637.000000  1.500000  999.000000  0.000000      1.100000   \n",
              "BLUE-COLLAR       5.000000  7.000000  999.000000  1.000000     -1.800000   \n",
              "HOUSEMAID        84.000000  1.000000  999.000000  0.000000     -0.100000   \n",
              "MANAGEMENT     1225.000000  2.000000  999.000000  0.000000     -2.900000   \n",
              "RETIRED         545.000000  1.666667  668.000000  1.000000     -1.566667   \n",
              "SERVICES        238.333333  2.000000  999.000000  0.000000      1.200000   \n",
              "STUDENT         638.500000  1.500000  505.500000  0.500000     -1.750000   \n",
              "TECHNICIAN      834.000000  9.000000  999.000000  0.000000      1.100000   \n",
              "UNKNOWN          54.000000  4.000000  999.000000  0.000000      1.100000   \n",
              "admin.          254.238676  2.623704  956.038100  0.189060      0.015355   \n",
              "blue-collar     264.570410  2.557981  987.104182  0.122447      0.249216   \n",
              "entrepreneur    263.267857  2.535714  987.448489  0.138736      0.158723   \n",
              "housemaid       250.611898  2.641171  960.542965  0.137866      0.433900   \n",
              "management      256.726993  2.476223  962.634622  0.185084     -0.011700   \n",
              "retired         273.238206  2.478160  898.337798  0.326150     -0.696797   \n",
              "self-employed   264.142153  2.660802  976.621393  0.143561      0.094159   \n",
              "services        258.413263  2.588250  979.959657  0.155068      0.174584   \n",
              "student         282.870561  2.105384  840.983963  0.524628     -1.407216   \n",
              "technician      250.145654  2.576387  964.402996  0.153812      0.274444   \n",
              "unemployed      249.451677  2.564103  935.316568  0.199211     -0.111736   \n",
              "unknown         240.240122  2.644377  938.544073  0.155015      0.355623   \n",
              "\n",
              "               cons_price_idx  cons_conf_idx  euribor3m  nr_employed         y  \n",
              "job                                                                             \n",
              "ADMIN.              93.994000     -36.400000   4.858500  5191.000000  0.000000  \n",
              "BLUE-COLLAR         92.893000     -46.200000   1.281000  5099.100000  0.000000  \n",
              "HOUSEMAID           93.200000     -42.000000   4.153000  5195.800000  0.000000  \n",
              "MANAGEMENT          92.201000     -31.400000   0.884000  5076.200000  0.000000  \n",
              "RETIRED             93.142667     -37.233333   1.976667  5087.866667  0.333333  \n",
              "SERVICES            94.151000     -38.200000   4.892000  5203.366667  0.000000  \n",
              "STUDENT             94.045500     -40.150000   0.752500  5000.150000  1.000000  \n",
              "TECHNICIAN          93.994000     -36.400000   4.855000  5191.000000  0.000000  \n",
              "UNKNOWN             93.994000     -36.400000   4.864000  5191.000000  0.000000  \n",
              "admin.              93.533965     -40.246171   3.550023  5164.120192  0.129750  \n",
              "blue-collar         93.656738     -41.375294   3.772265  5175.623419  0.068951  \n",
              "entrepreneur        93.605372     -41.283654   3.791120  5176.313530  0.085165  \n",
              "housemaid           93.677026     -39.492918   4.009510  5179.514259  0.100094  \n",
              "management          93.523208     -40.492576   3.612249  5166.681457  0.112213  \n",
              "retired             93.431289     -38.575422   2.771453  5122.322248  0.252184  \n",
              "self-employed       93.559982     -40.488107   3.689376  5170.674384  0.104856  \n",
              "services            93.634268     -41.292385   3.698284  5171.576097  0.081442  \n",
              "student             93.329977     -40.187629   1.886817  5086.135624  0.312715  \n",
              "technician          93.561407     -39.928093   3.820247  5175.646114  0.108276  \n",
              "unemployed          93.563781     -40.007594   3.466583  5157.156509  0.142012  \n",
              "unknown             93.718106     -38.805167   3.946252  5172.876900  0.112462  "
            ],
            "text/html": [
              "\n",
              "  <div id=\"df-0b9cbf36-edfa-4b63-8502-7881ef93d53e\">\n",
              "    <div class=\"colab-df-container\">\n",
              "      <div>\n",
              "<style scoped>\n",
              "    .dataframe tbody tr th:only-of-type {\n",
              "        vertical-align: middle;\n",
              "    }\n",
              "\n",
              "    .dataframe tbody tr th {\n",
              "        vertical-align: top;\n",
              "    }\n",
              "\n",
              "    .dataframe thead th {\n",
              "        text-align: right;\n",
              "    }\n",
              "</style>\n",
              "<table border=\"1\" class=\"dataframe\">\n",
              "  <thead>\n",
              "    <tr style=\"text-align: right;\">\n",
              "      <th></th>\n",
              "      <th>duration</th>\n",
              "      <th>campaign</th>\n",
              "      <th>pdays</th>\n",
              "      <th>previous</th>\n",
              "      <th>emp_var_rate</th>\n",
              "      <th>cons_price_idx</th>\n",
              "      <th>cons_conf_idx</th>\n",
              "      <th>euribor3m</th>\n",
              "      <th>nr_employed</th>\n",
              "      <th>y</th>\n",
              "    </tr>\n",
              "    <tr>\n",
              "      <th>job</th>\n",
              "      <th></th>\n",
              "      <th></th>\n",
              "      <th></th>\n",
              "      <th></th>\n",
              "      <th></th>\n",
              "      <th></th>\n",
              "      <th></th>\n",
              "      <th></th>\n",
              "      <th></th>\n",
              "      <th></th>\n",
              "    </tr>\n",
              "  </thead>\n",
              "  <tbody>\n",
              "    <tr>\n",
              "      <th>ADMIN.</th>\n",
              "      <td>637.000000</td>\n",
              "      <td>1.500000</td>\n",
              "      <td>999.000000</td>\n",
              "      <td>0.000000</td>\n",
              "      <td>1.100000</td>\n",
              "      <td>93.994000</td>\n",
              "      <td>-36.400000</td>\n",
              "      <td>4.858500</td>\n",
              "      <td>5191.000000</td>\n",
              "      <td>0.000000</td>\n",
              "    </tr>\n",
              "    <tr>\n",
              "      <th>BLUE-COLLAR</th>\n",
              "      <td>5.000000</td>\n",
              "      <td>7.000000</td>\n",
              "      <td>999.000000</td>\n",
              "      <td>1.000000</td>\n",
              "      <td>-1.800000</td>\n",
              "      <td>92.893000</td>\n",
              "      <td>-46.200000</td>\n",
              "      <td>1.281000</td>\n",
              "      <td>5099.100000</td>\n",
              "      <td>0.000000</td>\n",
              "    </tr>\n",
              "    <tr>\n",
              "      <th>HOUSEMAID</th>\n",
              "      <td>84.000000</td>\n",
              "      <td>1.000000</td>\n",
              "      <td>999.000000</td>\n",
              "      <td>0.000000</td>\n",
              "      <td>-0.100000</td>\n",
              "      <td>93.200000</td>\n",
              "      <td>-42.000000</td>\n",
              "      <td>4.153000</td>\n",
              "      <td>5195.800000</td>\n",
              "      <td>0.000000</td>\n",
              "    </tr>\n",
              "    <tr>\n",
              "      <th>MANAGEMENT</th>\n",
              "      <td>1225.000000</td>\n",
              "      <td>2.000000</td>\n",
              "      <td>999.000000</td>\n",
              "      <td>0.000000</td>\n",
              "      <td>-2.900000</td>\n",
              "      <td>92.201000</td>\n",
              "      <td>-31.400000</td>\n",
              "      <td>0.884000</td>\n",
              "      <td>5076.200000</td>\n",
              "      <td>0.000000</td>\n",
              "    </tr>\n",
              "    <tr>\n",
              "      <th>RETIRED</th>\n",
              "      <td>545.000000</td>\n",
              "      <td>1.666667</td>\n",
              "      <td>668.000000</td>\n",
              "      <td>1.000000</td>\n",
              "      <td>-1.566667</td>\n",
              "      <td>93.142667</td>\n",
              "      <td>-37.233333</td>\n",
              "      <td>1.976667</td>\n",
              "      <td>5087.866667</td>\n",
              "      <td>0.333333</td>\n",
              "    </tr>\n",
              "    <tr>\n",
              "      <th>SERVICES</th>\n",
              "      <td>238.333333</td>\n",
              "      <td>2.000000</td>\n",
              "      <td>999.000000</td>\n",
              "      <td>0.000000</td>\n",
              "      <td>1.200000</td>\n",
              "      <td>94.151000</td>\n",
              "      <td>-38.200000</td>\n",
              "      <td>4.892000</td>\n",
              "      <td>5203.366667</td>\n",
              "      <td>0.000000</td>\n",
              "    </tr>\n",
              "    <tr>\n",
              "      <th>STUDENT</th>\n",
              "      <td>638.500000</td>\n",
              "      <td>1.500000</td>\n",
              "      <td>505.500000</td>\n",
              "      <td>0.500000</td>\n",
              "      <td>-1.750000</td>\n",
              "      <td>94.045500</td>\n",
              "      <td>-40.150000</td>\n",
              "      <td>0.752500</td>\n",
              "      <td>5000.150000</td>\n",
              "      <td>1.000000</td>\n",
              "    </tr>\n",
              "    <tr>\n",
              "      <th>TECHNICIAN</th>\n",
              "      <td>834.000000</td>\n",
              "      <td>9.000000</td>\n",
              "      <td>999.000000</td>\n",
              "      <td>0.000000</td>\n",
              "      <td>1.100000</td>\n",
              "      <td>93.994000</td>\n",
              "      <td>-36.400000</td>\n",
              "      <td>4.855000</td>\n",
              "      <td>5191.000000</td>\n",
              "      <td>0.000000</td>\n",
              "    </tr>\n",
              "    <tr>\n",
              "      <th>UNKNOWN</th>\n",
              "      <td>54.000000</td>\n",
              "      <td>4.000000</td>\n",
              "      <td>999.000000</td>\n",
              "      <td>0.000000</td>\n",
              "      <td>1.100000</td>\n",
              "      <td>93.994000</td>\n",
              "      <td>-36.400000</td>\n",
              "      <td>4.864000</td>\n",
              "      <td>5191.000000</td>\n",
              "      <td>0.000000</td>\n",
              "    </tr>\n",
              "    <tr>\n",
              "      <th>admin.</th>\n",
              "      <td>254.238676</td>\n",
              "      <td>2.623704</td>\n",
              "      <td>956.038100</td>\n",
              "      <td>0.189060</td>\n",
              "      <td>0.015355</td>\n",
              "      <td>93.533965</td>\n",
              "      <td>-40.246171</td>\n",
              "      <td>3.550023</td>\n",
              "      <td>5164.120192</td>\n",
              "      <td>0.129750</td>\n",
              "    </tr>\n",
              "    <tr>\n",
              "      <th>blue-collar</th>\n",
              "      <td>264.570410</td>\n",
              "      <td>2.557981</td>\n",
              "      <td>987.104182</td>\n",
              "      <td>0.122447</td>\n",
              "      <td>0.249216</td>\n",
              "      <td>93.656738</td>\n",
              "      <td>-41.375294</td>\n",
              "      <td>3.772265</td>\n",
              "      <td>5175.623419</td>\n",
              "      <td>0.068951</td>\n",
              "    </tr>\n",
              "    <tr>\n",
              "      <th>entrepreneur</th>\n",
              "      <td>263.267857</td>\n",
              "      <td>2.535714</td>\n",
              "      <td>987.448489</td>\n",
              "      <td>0.138736</td>\n",
              "      <td>0.158723</td>\n",
              "      <td>93.605372</td>\n",
              "      <td>-41.283654</td>\n",
              "      <td>3.791120</td>\n",
              "      <td>5176.313530</td>\n",
              "      <td>0.085165</td>\n",
              "    </tr>\n",
              "    <tr>\n",
              "      <th>housemaid</th>\n",
              "      <td>250.611898</td>\n",
              "      <td>2.641171</td>\n",
              "      <td>960.542965</td>\n",
              "      <td>0.137866</td>\n",
              "      <td>0.433900</td>\n",
              "      <td>93.677026</td>\n",
              "      <td>-39.492918</td>\n",
              "      <td>4.009510</td>\n",
              "      <td>5179.514259</td>\n",
              "      <td>0.100094</td>\n",
              "    </tr>\n",
              "    <tr>\n",
              "      <th>management</th>\n",
              "      <td>256.726993</td>\n",
              "      <td>2.476223</td>\n",
              "      <td>962.634622</td>\n",
              "      <td>0.185084</td>\n",
              "      <td>-0.011700</td>\n",
              "      <td>93.523208</td>\n",
              "      <td>-40.492576</td>\n",
              "      <td>3.612249</td>\n",
              "      <td>5166.681457</td>\n",
              "      <td>0.112213</td>\n",
              "    </tr>\n",
              "    <tr>\n",
              "      <th>retired</th>\n",
              "      <td>273.238206</td>\n",
              "      <td>2.478160</td>\n",
              "      <td>898.337798</td>\n",
              "      <td>0.326150</td>\n",
              "      <td>-0.696797</td>\n",
              "      <td>93.431289</td>\n",
              "      <td>-38.575422</td>\n",
              "      <td>2.771453</td>\n",
              "      <td>5122.322248</td>\n",
              "      <td>0.252184</td>\n",
              "    </tr>\n",
              "    <tr>\n",
              "      <th>self-employed</th>\n",
              "      <td>264.142153</td>\n",
              "      <td>2.660802</td>\n",
              "      <td>976.621393</td>\n",
              "      <td>0.143561</td>\n",
              "      <td>0.094159</td>\n",
              "      <td>93.559982</td>\n",
              "      <td>-40.488107</td>\n",
              "      <td>3.689376</td>\n",
              "      <td>5170.674384</td>\n",
              "      <td>0.104856</td>\n",
              "    </tr>\n",
              "    <tr>\n",
              "      <th>services</th>\n",
              "      <td>258.413263</td>\n",
              "      <td>2.588250</td>\n",
              "      <td>979.959657</td>\n",
              "      <td>0.155068</td>\n",
              "      <td>0.174584</td>\n",
              "      <td>93.634268</td>\n",
              "      <td>-41.292385</td>\n",
              "      <td>3.698284</td>\n",
              "      <td>5171.576097</td>\n",
              "      <td>0.081442</td>\n",
              "    </tr>\n",
              "    <tr>\n",
              "      <th>student</th>\n",
              "      <td>282.870561</td>\n",
              "      <td>2.105384</td>\n",
              "      <td>840.983963</td>\n",
              "      <td>0.524628</td>\n",
              "      <td>-1.407216</td>\n",
              "      <td>93.329977</td>\n",
              "      <td>-40.187629</td>\n",
              "      <td>1.886817</td>\n",
              "      <td>5086.135624</td>\n",
              "      <td>0.312715</td>\n",
              "    </tr>\n",
              "    <tr>\n",
              "      <th>technician</th>\n",
              "      <td>250.145654</td>\n",
              "      <td>2.576387</td>\n",
              "      <td>964.402996</td>\n",
              "      <td>0.153812</td>\n",
              "      <td>0.274444</td>\n",
              "      <td>93.561407</td>\n",
              "      <td>-39.928093</td>\n",
              "      <td>3.820247</td>\n",
              "      <td>5175.646114</td>\n",
              "      <td>0.108276</td>\n",
              "    </tr>\n",
              "    <tr>\n",
              "      <th>unemployed</th>\n",
              "      <td>249.451677</td>\n",
              "      <td>2.564103</td>\n",
              "      <td>935.316568</td>\n",
              "      <td>0.199211</td>\n",
              "      <td>-0.111736</td>\n",
              "      <td>93.563781</td>\n",
              "      <td>-40.007594</td>\n",
              "      <td>3.466583</td>\n",
              "      <td>5157.156509</td>\n",
              "      <td>0.142012</td>\n",
              "    </tr>\n",
              "    <tr>\n",
              "      <th>unknown</th>\n",
              "      <td>240.240122</td>\n",
              "      <td>2.644377</td>\n",
              "      <td>938.544073</td>\n",
              "      <td>0.155015</td>\n",
              "      <td>0.355623</td>\n",
              "      <td>93.718106</td>\n",
              "      <td>-38.805167</td>\n",
              "      <td>3.946252</td>\n",
              "      <td>5172.876900</td>\n",
              "      <td>0.112462</td>\n",
              "    </tr>\n",
              "  </tbody>\n",
              "</table>\n",
              "</div>\n",
              "      <button class=\"colab-df-convert\" onclick=\"convertToInteractive('df-0b9cbf36-edfa-4b63-8502-7881ef93d53e')\"\n",
              "              title=\"Convert this dataframe to an interactive table.\"\n",
              "              style=\"display:none;\">\n",
              "        \n",
              "  <svg xmlns=\"http://www.w3.org/2000/svg\" height=\"24px\"viewBox=\"0 0 24 24\"\n",
              "       width=\"24px\">\n",
              "    <path d=\"M0 0h24v24H0V0z\" fill=\"none\"/>\n",
              "    <path d=\"M18.56 5.44l.94 2.06.94-2.06 2.06-.94-2.06-.94-.94-2.06-.94 2.06-2.06.94zm-11 1L8.5 8.5l.94-2.06 2.06-.94-2.06-.94L8.5 2.5l-.94 2.06-2.06.94zm10 10l.94 2.06.94-2.06 2.06-.94-2.06-.94-.94-2.06-.94 2.06-2.06.94z\"/><path d=\"M17.41 7.96l-1.37-1.37c-.4-.4-.92-.59-1.43-.59-.52 0-1.04.2-1.43.59L10.3 9.45l-7.72 7.72c-.78.78-.78 2.05 0 2.83L4 21.41c.39.39.9.59 1.41.59.51 0 1.02-.2 1.41-.59l7.78-7.78 2.81-2.81c.8-.78.8-2.07 0-2.86zM5.41 20L4 18.59l7.72-7.72 1.47 1.35L5.41 20z\"/>\n",
              "  </svg>\n",
              "      </button>\n",
              "      \n",
              "  <style>\n",
              "    .colab-df-container {\n",
              "      display:flex;\n",
              "      flex-wrap:wrap;\n",
              "      gap: 12px;\n",
              "    }\n",
              "\n",
              "    .colab-df-convert {\n",
              "      background-color: #E8F0FE;\n",
              "      border: none;\n",
              "      border-radius: 50%;\n",
              "      cursor: pointer;\n",
              "      display: none;\n",
              "      fill: #1967D2;\n",
              "      height: 32px;\n",
              "      padding: 0 0 0 0;\n",
              "      width: 32px;\n",
              "    }\n",
              "\n",
              "    .colab-df-convert:hover {\n",
              "      background-color: #E2EBFA;\n",
              "      box-shadow: 0px 1px 2px rgba(60, 64, 67, 0.3), 0px 1px 3px 1px rgba(60, 64, 67, 0.15);\n",
              "      fill: #174EA6;\n",
              "    }\n",
              "\n",
              "    [theme=dark] .colab-df-convert {\n",
              "      background-color: #3B4455;\n",
              "      fill: #D2E3FC;\n",
              "    }\n",
              "\n",
              "    [theme=dark] .colab-df-convert:hover {\n",
              "      background-color: #434B5C;\n",
              "      box-shadow: 0px 1px 3px 1px rgba(0, 0, 0, 0.15);\n",
              "      filter: drop-shadow(0px 1px 2px rgba(0, 0, 0, 0.3));\n",
              "      fill: #FFFFFF;\n",
              "    }\n",
              "  </style>\n",
              "\n",
              "      <script>\n",
              "        const buttonEl =\n",
              "          document.querySelector('#df-0b9cbf36-edfa-4b63-8502-7881ef93d53e button.colab-df-convert');\n",
              "        buttonEl.style.display =\n",
              "          google.colab.kernel.accessAllowed ? 'block' : 'none';\n",
              "\n",
              "        async function convertToInteractive(key) {\n",
              "          const element = document.querySelector('#df-0b9cbf36-edfa-4b63-8502-7881ef93d53e');\n",
              "          const dataTable =\n",
              "            await google.colab.kernel.invokeFunction('convertToInteractive',\n",
              "                                                     [key], {});\n",
              "          if (!dataTable) return;\n",
              "\n",
              "          const docLinkHtml = 'Like what you see? Visit the ' +\n",
              "            '<a target=\"_blank\" href=https://colab.research.google.com/notebooks/data_table.ipynb>data table notebook</a>'\n",
              "            + ' to learn more about interactive tables.';\n",
              "          element.innerHTML = '';\n",
              "          dataTable['output_type'] = 'display_data';\n",
              "          await google.colab.output.renderOutput(dataTable, element);\n",
              "          const docLink = document.createElement('div');\n",
              "          docLink.innerHTML = docLinkHtml;\n",
              "          element.appendChild(docLink);\n",
              "        }\n",
              "      </script>\n",
              "    </div>\n",
              "  </div>\n",
              "  "
            ]
          },
          "metadata": {},
          "execution_count": 279
        }
      ]
    },
    {
      "cell_type": "code",
      "source": [
        "data.groupby('marital').mean()"
      ],
      "metadata": {
        "colab": {
          "base_uri": "https://localhost:8080/",
          "height": 300
        },
        "id": "dt2b13k0gleN",
        "outputId": "c853fac2-7307-4e68-d0e7-2d1c54a55ba2"
      },
      "execution_count": 280,
      "outputs": [
        {
          "output_type": "execute_result",
          "data": {
            "text/plain": [
              "            duration  campaign       pdays  previous  emp_var_rate  \\\n",
              "marital                                                              \n",
              "D          87.500000  1.250000  999.000000  0.000000      1.250000   \n",
              "M         418.400000  2.600000  999.000000  0.200000     -0.960000   \n",
              "S         283.333333  2.000000  999.000000  0.000000     -0.233333   \n",
              "divorced  253.934679  2.614583  968.613498  0.168837      0.163043   \n",
              "married   257.406332  2.572804  967.963528  0.155599      0.183854   \n",
              "single    261.518720  2.533939  952.231474  0.211414     -0.167972   \n",
              "unknown   312.725000  3.187500  937.100000  0.275000     -0.221250   \n",
              "\n",
              "          cons_price_idx  cons_conf_idx  euribor3m  nr_employed         y  \n",
              "marital                                                                    \n",
              "D              93.974250     -37.675000   4.909750  5209.550000  0.000000  \n",
              "M              92.931400     -37.560000   2.589200  5141.540000  0.000000  \n",
              "S              93.396333     -34.733333   3.531333  5152.733333  0.000000  \n",
              "divorced       93.606244     -40.709701   3.714567  5170.845074  0.103299  \n",
              "married        93.597501     -40.271203   3.746064  5171.854853  0.101593  \n",
              "single         93.517331     -40.920303   3.317391  5155.199905  0.140078  \n",
              "unknown        93.471250     -40.820000   3.313038  5157.393750  0.150000  "
            ],
            "text/html": [
              "\n",
              "  <div id=\"df-4ee62f36-48fd-43d3-bc89-980ae75cd204\">\n",
              "    <div class=\"colab-df-container\">\n",
              "      <div>\n",
              "<style scoped>\n",
              "    .dataframe tbody tr th:only-of-type {\n",
              "        vertical-align: middle;\n",
              "    }\n",
              "\n",
              "    .dataframe tbody tr th {\n",
              "        vertical-align: top;\n",
              "    }\n",
              "\n",
              "    .dataframe thead th {\n",
              "        text-align: right;\n",
              "    }\n",
              "</style>\n",
              "<table border=\"1\" class=\"dataframe\">\n",
              "  <thead>\n",
              "    <tr style=\"text-align: right;\">\n",
              "      <th></th>\n",
              "      <th>duration</th>\n",
              "      <th>campaign</th>\n",
              "      <th>pdays</th>\n",
              "      <th>previous</th>\n",
              "      <th>emp_var_rate</th>\n",
              "      <th>cons_price_idx</th>\n",
              "      <th>cons_conf_idx</th>\n",
              "      <th>euribor3m</th>\n",
              "      <th>nr_employed</th>\n",
              "      <th>y</th>\n",
              "    </tr>\n",
              "    <tr>\n",
              "      <th>marital</th>\n",
              "      <th></th>\n",
              "      <th></th>\n",
              "      <th></th>\n",
              "      <th></th>\n",
              "      <th></th>\n",
              "      <th></th>\n",
              "      <th></th>\n",
              "      <th></th>\n",
              "      <th></th>\n",
              "      <th></th>\n",
              "    </tr>\n",
              "  </thead>\n",
              "  <tbody>\n",
              "    <tr>\n",
              "      <th>D</th>\n",
              "      <td>87.500000</td>\n",
              "      <td>1.250000</td>\n",
              "      <td>999.000000</td>\n",
              "      <td>0.000000</td>\n",
              "      <td>1.250000</td>\n",
              "      <td>93.974250</td>\n",
              "      <td>-37.675000</td>\n",
              "      <td>4.909750</td>\n",
              "      <td>5209.550000</td>\n",
              "      <td>0.000000</td>\n",
              "    </tr>\n",
              "    <tr>\n",
              "      <th>M</th>\n",
              "      <td>418.400000</td>\n",
              "      <td>2.600000</td>\n",
              "      <td>999.000000</td>\n",
              "      <td>0.200000</td>\n",
              "      <td>-0.960000</td>\n",
              "      <td>92.931400</td>\n",
              "      <td>-37.560000</td>\n",
              "      <td>2.589200</td>\n",
              "      <td>5141.540000</td>\n",
              "      <td>0.000000</td>\n",
              "    </tr>\n",
              "    <tr>\n",
              "      <th>S</th>\n",
              "      <td>283.333333</td>\n",
              "      <td>2.000000</td>\n",
              "      <td>999.000000</td>\n",
              "      <td>0.000000</td>\n",
              "      <td>-0.233333</td>\n",
              "      <td>93.396333</td>\n",
              "      <td>-34.733333</td>\n",
              "      <td>3.531333</td>\n",
              "      <td>5152.733333</td>\n",
              "      <td>0.000000</td>\n",
              "    </tr>\n",
              "    <tr>\n",
              "      <th>divorced</th>\n",
              "      <td>253.934679</td>\n",
              "      <td>2.614583</td>\n",
              "      <td>968.613498</td>\n",
              "      <td>0.168837</td>\n",
              "      <td>0.163043</td>\n",
              "      <td>93.606244</td>\n",
              "      <td>-40.709701</td>\n",
              "      <td>3.714567</td>\n",
              "      <td>5170.845074</td>\n",
              "      <td>0.103299</td>\n",
              "    </tr>\n",
              "    <tr>\n",
              "      <th>married</th>\n",
              "      <td>257.406332</td>\n",
              "      <td>2.572804</td>\n",
              "      <td>967.963528</td>\n",
              "      <td>0.155599</td>\n",
              "      <td>0.183854</td>\n",
              "      <td>93.597501</td>\n",
              "      <td>-40.271203</td>\n",
              "      <td>3.746064</td>\n",
              "      <td>5171.854853</td>\n",
              "      <td>0.101593</td>\n",
              "    </tr>\n",
              "    <tr>\n",
              "      <th>single</th>\n",
              "      <td>261.518720</td>\n",
              "      <td>2.533939</td>\n",
              "      <td>952.231474</td>\n",
              "      <td>0.211414</td>\n",
              "      <td>-0.167972</td>\n",
              "      <td>93.517331</td>\n",
              "      <td>-40.920303</td>\n",
              "      <td>3.317391</td>\n",
              "      <td>5155.199905</td>\n",
              "      <td>0.140078</td>\n",
              "    </tr>\n",
              "    <tr>\n",
              "      <th>unknown</th>\n",
              "      <td>312.725000</td>\n",
              "      <td>3.187500</td>\n",
              "      <td>937.100000</td>\n",
              "      <td>0.275000</td>\n",
              "      <td>-0.221250</td>\n",
              "      <td>93.471250</td>\n",
              "      <td>-40.820000</td>\n",
              "      <td>3.313038</td>\n",
              "      <td>5157.393750</td>\n",
              "      <td>0.150000</td>\n",
              "    </tr>\n",
              "  </tbody>\n",
              "</table>\n",
              "</div>\n",
              "      <button class=\"colab-df-convert\" onclick=\"convertToInteractive('df-4ee62f36-48fd-43d3-bc89-980ae75cd204')\"\n",
              "              title=\"Convert this dataframe to an interactive table.\"\n",
              "              style=\"display:none;\">\n",
              "        \n",
              "  <svg xmlns=\"http://www.w3.org/2000/svg\" height=\"24px\"viewBox=\"0 0 24 24\"\n",
              "       width=\"24px\">\n",
              "    <path d=\"M0 0h24v24H0V0z\" fill=\"none\"/>\n",
              "    <path d=\"M18.56 5.44l.94 2.06.94-2.06 2.06-.94-2.06-.94-.94-2.06-.94 2.06-2.06.94zm-11 1L8.5 8.5l.94-2.06 2.06-.94-2.06-.94L8.5 2.5l-.94 2.06-2.06.94zm10 10l.94 2.06.94-2.06 2.06-.94-2.06-.94-.94-2.06-.94 2.06-2.06.94z\"/><path d=\"M17.41 7.96l-1.37-1.37c-.4-.4-.92-.59-1.43-.59-.52 0-1.04.2-1.43.59L10.3 9.45l-7.72 7.72c-.78.78-.78 2.05 0 2.83L4 21.41c.39.39.9.59 1.41.59.51 0 1.02-.2 1.41-.59l7.78-7.78 2.81-2.81c.8-.78.8-2.07 0-2.86zM5.41 20L4 18.59l7.72-7.72 1.47 1.35L5.41 20z\"/>\n",
              "  </svg>\n",
              "      </button>\n",
              "      \n",
              "  <style>\n",
              "    .colab-df-container {\n",
              "      display:flex;\n",
              "      flex-wrap:wrap;\n",
              "      gap: 12px;\n",
              "    }\n",
              "\n",
              "    .colab-df-convert {\n",
              "      background-color: #E8F0FE;\n",
              "      border: none;\n",
              "      border-radius: 50%;\n",
              "      cursor: pointer;\n",
              "      display: none;\n",
              "      fill: #1967D2;\n",
              "      height: 32px;\n",
              "      padding: 0 0 0 0;\n",
              "      width: 32px;\n",
              "    }\n",
              "\n",
              "    .colab-df-convert:hover {\n",
              "      background-color: #E2EBFA;\n",
              "      box-shadow: 0px 1px 2px rgba(60, 64, 67, 0.3), 0px 1px 3px 1px rgba(60, 64, 67, 0.15);\n",
              "      fill: #174EA6;\n",
              "    }\n",
              "\n",
              "    [theme=dark] .colab-df-convert {\n",
              "      background-color: #3B4455;\n",
              "      fill: #D2E3FC;\n",
              "    }\n",
              "\n",
              "    [theme=dark] .colab-df-convert:hover {\n",
              "      background-color: #434B5C;\n",
              "      box-shadow: 0px 1px 3px 1px rgba(0, 0, 0, 0.15);\n",
              "      filter: drop-shadow(0px 1px 2px rgba(0, 0, 0, 0.3));\n",
              "      fill: #FFFFFF;\n",
              "    }\n",
              "  </style>\n",
              "\n",
              "      <script>\n",
              "        const buttonEl =\n",
              "          document.querySelector('#df-4ee62f36-48fd-43d3-bc89-980ae75cd204 button.colab-df-convert');\n",
              "        buttonEl.style.display =\n",
              "          google.colab.kernel.accessAllowed ? 'block' : 'none';\n",
              "\n",
              "        async function convertToInteractive(key) {\n",
              "          const element = document.querySelector('#df-4ee62f36-48fd-43d3-bc89-980ae75cd204');\n",
              "          const dataTable =\n",
              "            await google.colab.kernel.invokeFunction('convertToInteractive',\n",
              "                                                     [key], {});\n",
              "          if (!dataTable) return;\n",
              "\n",
              "          const docLinkHtml = 'Like what you see? Visit the ' +\n",
              "            '<a target=\"_blank\" href=https://colab.research.google.com/notebooks/data_table.ipynb>data table notebook</a>'\n",
              "            + ' to learn more about interactive tables.';\n",
              "          element.innerHTML = '';\n",
              "          dataTable['output_type'] = 'display_data';\n",
              "          await google.colab.output.renderOutput(dataTable, element);\n",
              "          const docLink = document.createElement('div');\n",
              "          docLink.innerHTML = docLinkHtml;\n",
              "          element.appendChild(docLink);\n",
              "        }\n",
              "      </script>\n",
              "    </div>\n",
              "  </div>\n",
              "  "
            ]
          },
          "metadata": {},
          "execution_count": 280
        }
      ]
    },
    {
      "cell_type": "code",
      "source": [
        "data.groupby('education').mean()"
      ],
      "metadata": {
        "colab": {
          "base_uri": "https://localhost:8080/",
          "height": 425
        },
        "id": "v5_uePGigvvF",
        "outputId": "ba731a51-7bc7-4029-db17-407a4f7b2f9e"
      },
      "execution_count": 281,
      "outputs": [
        {
          "output_type": "execute_result",
          "data": {
            "text/plain": [
              "                       duration  campaign       pdays  previous  emp_var_rate  \\\n",
              "education                                                                       \n",
              "basic-4y             259.750000  4.250000  915.916667  0.250000      0.166667   \n",
              "basic-6y             222.500000  2.500000  999.000000  0.000000      0.766667   \n",
              "basic-9y             144.900000  1.600000  999.000000  0.200000      0.270000   \n",
              "basic.4y             264.842459  2.595821  970.171230  0.146734      0.216066   \n",
              "basic.6y             264.524497  2.556430  980.319335  0.129484      0.229746   \n",
              "basic.9y             261.484673  2.533886  979.100249  0.141342      0.159056   \n",
              "high.school          260.886810  2.568576  964.358382  0.185917      0.032937   \n",
              "illiterate           276.777778  2.277778  943.833333  0.111111     -0.133333   \n",
              "professional.course  252.533855  2.586115  962.482548  0.163075      0.173012   \n",
              "university.degree    253.223373  2.563527  953.286982  0.192390     -0.028090   \n",
              "unknown              262.390526  2.596187  942.830734  0.226459      0.059099   \n",
              "\n",
              "                     cons_price_idx  cons_conf_idx  euribor3m  nr_employed  \\\n",
              "education                                                                    \n",
              "basic-4y                  93.747500     -42.225000   3.615083  5167.266667   \n",
              "basic-6y                  93.784667     -39.933333   4.313333  5194.233333   \n",
              "basic-9y                  93.732300     -42.120000   3.716900  5161.490000   \n",
              "basic.4y                  93.658052     -40.234150   3.752162  5170.133117   \n",
              "basic.6y                  93.649709     -41.131015   3.771524  5174.666842   \n",
              "basic.9y                  93.623218     -41.325435   3.697932  5172.311914   \n",
              "high.school               93.584857     -40.940641   3.556157  5164.994735   \n",
              "illiterate                93.317333     -39.950000   3.516556  5171.777778   \n",
              "professional.course       93.569864     -40.124108   3.710457  5170.155979   \n",
              "university.degree         93.493466     -39.975805   3.529663  5163.226298   \n",
              "unknown                   93.658615     -39.877816   3.571098  5159.549509   \n",
              "\n",
              "                            y  \n",
              "education                      \n",
              "basic-4y             0.083333  \n",
              "basic-6y             0.000000  \n",
              "basic-9y             0.000000  \n",
              "basic.4y             0.102546  \n",
              "basic.6y             0.082240  \n",
              "basic.9y             0.078376  \n",
              "high.school          0.108355  \n",
              "illiterate           0.222222  \n",
              "professional.course  0.113485  \n",
              "university.degree    0.137245  \n",
              "unknown              0.145003  "
            ],
            "text/html": [
              "\n",
              "  <div id=\"df-5d3a0d8c-dc79-473e-b2b0-9987e69b2e1b\">\n",
              "    <div class=\"colab-df-container\">\n",
              "      <div>\n",
              "<style scoped>\n",
              "    .dataframe tbody tr th:only-of-type {\n",
              "        vertical-align: middle;\n",
              "    }\n",
              "\n",
              "    .dataframe tbody tr th {\n",
              "        vertical-align: top;\n",
              "    }\n",
              "\n",
              "    .dataframe thead th {\n",
              "        text-align: right;\n",
              "    }\n",
              "</style>\n",
              "<table border=\"1\" class=\"dataframe\">\n",
              "  <thead>\n",
              "    <tr style=\"text-align: right;\">\n",
              "      <th></th>\n",
              "      <th>duration</th>\n",
              "      <th>campaign</th>\n",
              "      <th>pdays</th>\n",
              "      <th>previous</th>\n",
              "      <th>emp_var_rate</th>\n",
              "      <th>cons_price_idx</th>\n",
              "      <th>cons_conf_idx</th>\n",
              "      <th>euribor3m</th>\n",
              "      <th>nr_employed</th>\n",
              "      <th>y</th>\n",
              "    </tr>\n",
              "    <tr>\n",
              "      <th>education</th>\n",
              "      <th></th>\n",
              "      <th></th>\n",
              "      <th></th>\n",
              "      <th></th>\n",
              "      <th></th>\n",
              "      <th></th>\n",
              "      <th></th>\n",
              "      <th></th>\n",
              "      <th></th>\n",
              "      <th></th>\n",
              "    </tr>\n",
              "  </thead>\n",
              "  <tbody>\n",
              "    <tr>\n",
              "      <th>basic-4y</th>\n",
              "      <td>259.750000</td>\n",
              "      <td>4.250000</td>\n",
              "      <td>915.916667</td>\n",
              "      <td>0.250000</td>\n",
              "      <td>0.166667</td>\n",
              "      <td>93.747500</td>\n",
              "      <td>-42.225000</td>\n",
              "      <td>3.615083</td>\n",
              "      <td>5167.266667</td>\n",
              "      <td>0.083333</td>\n",
              "    </tr>\n",
              "    <tr>\n",
              "      <th>basic-6y</th>\n",
              "      <td>222.500000</td>\n",
              "      <td>2.500000</td>\n",
              "      <td>999.000000</td>\n",
              "      <td>0.000000</td>\n",
              "      <td>0.766667</td>\n",
              "      <td>93.784667</td>\n",
              "      <td>-39.933333</td>\n",
              "      <td>4.313333</td>\n",
              "      <td>5194.233333</td>\n",
              "      <td>0.000000</td>\n",
              "    </tr>\n",
              "    <tr>\n",
              "      <th>basic-9y</th>\n",
              "      <td>144.900000</td>\n",
              "      <td>1.600000</td>\n",
              "      <td>999.000000</td>\n",
              "      <td>0.200000</td>\n",
              "      <td>0.270000</td>\n",
              "      <td>93.732300</td>\n",
              "      <td>-42.120000</td>\n",
              "      <td>3.716900</td>\n",
              "      <td>5161.490000</td>\n",
              "      <td>0.000000</td>\n",
              "    </tr>\n",
              "    <tr>\n",
              "      <th>basic.4y</th>\n",
              "      <td>264.842459</td>\n",
              "      <td>2.595821</td>\n",
              "      <td>970.171230</td>\n",
              "      <td>0.146734</td>\n",
              "      <td>0.216066</td>\n",
              "      <td>93.658052</td>\n",
              "      <td>-40.234150</td>\n",
              "      <td>3.752162</td>\n",
              "      <td>5170.133117</td>\n",
              "      <td>0.102546</td>\n",
              "    </tr>\n",
              "    <tr>\n",
              "      <th>basic.6y</th>\n",
              "      <td>264.524497</td>\n",
              "      <td>2.556430</td>\n",
              "      <td>980.319335</td>\n",
              "      <td>0.129484</td>\n",
              "      <td>0.229746</td>\n",
              "      <td>93.649709</td>\n",
              "      <td>-41.131015</td>\n",
              "      <td>3.771524</td>\n",
              "      <td>5174.666842</td>\n",
              "      <td>0.082240</td>\n",
              "    </tr>\n",
              "    <tr>\n",
              "      <th>basic.9y</th>\n",
              "      <td>261.484673</td>\n",
              "      <td>2.533886</td>\n",
              "      <td>979.100249</td>\n",
              "      <td>0.141342</td>\n",
              "      <td>0.159056</td>\n",
              "      <td>93.623218</td>\n",
              "      <td>-41.325435</td>\n",
              "      <td>3.697932</td>\n",
              "      <td>5172.311914</td>\n",
              "      <td>0.078376</td>\n",
              "    </tr>\n",
              "    <tr>\n",
              "      <th>high.school</th>\n",
              "      <td>260.886810</td>\n",
              "      <td>2.568576</td>\n",
              "      <td>964.358382</td>\n",
              "      <td>0.185917</td>\n",
              "      <td>0.032937</td>\n",
              "      <td>93.584857</td>\n",
              "      <td>-40.940641</td>\n",
              "      <td>3.556157</td>\n",
              "      <td>5164.994735</td>\n",
              "      <td>0.108355</td>\n",
              "    </tr>\n",
              "    <tr>\n",
              "      <th>illiterate</th>\n",
              "      <td>276.777778</td>\n",
              "      <td>2.277778</td>\n",
              "      <td>943.833333</td>\n",
              "      <td>0.111111</td>\n",
              "      <td>-0.133333</td>\n",
              "      <td>93.317333</td>\n",
              "      <td>-39.950000</td>\n",
              "      <td>3.516556</td>\n",
              "      <td>5171.777778</td>\n",
              "      <td>0.222222</td>\n",
              "    </tr>\n",
              "    <tr>\n",
              "      <th>professional.course</th>\n",
              "      <td>252.533855</td>\n",
              "      <td>2.586115</td>\n",
              "      <td>962.482548</td>\n",
              "      <td>0.163075</td>\n",
              "      <td>0.173012</td>\n",
              "      <td>93.569864</td>\n",
              "      <td>-40.124108</td>\n",
              "      <td>3.710457</td>\n",
              "      <td>5170.155979</td>\n",
              "      <td>0.113485</td>\n",
              "    </tr>\n",
              "    <tr>\n",
              "      <th>university.degree</th>\n",
              "      <td>253.223373</td>\n",
              "      <td>2.563527</td>\n",
              "      <td>953.286982</td>\n",
              "      <td>0.192390</td>\n",
              "      <td>-0.028090</td>\n",
              "      <td>93.493466</td>\n",
              "      <td>-39.975805</td>\n",
              "      <td>3.529663</td>\n",
              "      <td>5163.226298</td>\n",
              "      <td>0.137245</td>\n",
              "    </tr>\n",
              "    <tr>\n",
              "      <th>unknown</th>\n",
              "      <td>262.390526</td>\n",
              "      <td>2.596187</td>\n",
              "      <td>942.830734</td>\n",
              "      <td>0.226459</td>\n",
              "      <td>0.059099</td>\n",
              "      <td>93.658615</td>\n",
              "      <td>-39.877816</td>\n",
              "      <td>3.571098</td>\n",
              "      <td>5159.549509</td>\n",
              "      <td>0.145003</td>\n",
              "    </tr>\n",
              "  </tbody>\n",
              "</table>\n",
              "</div>\n",
              "      <button class=\"colab-df-convert\" onclick=\"convertToInteractive('df-5d3a0d8c-dc79-473e-b2b0-9987e69b2e1b')\"\n",
              "              title=\"Convert this dataframe to an interactive table.\"\n",
              "              style=\"display:none;\">\n",
              "        \n",
              "  <svg xmlns=\"http://www.w3.org/2000/svg\" height=\"24px\"viewBox=\"0 0 24 24\"\n",
              "       width=\"24px\">\n",
              "    <path d=\"M0 0h24v24H0V0z\" fill=\"none\"/>\n",
              "    <path d=\"M18.56 5.44l.94 2.06.94-2.06 2.06-.94-2.06-.94-.94-2.06-.94 2.06-2.06.94zm-11 1L8.5 8.5l.94-2.06 2.06-.94-2.06-.94L8.5 2.5l-.94 2.06-2.06.94zm10 10l.94 2.06.94-2.06 2.06-.94-2.06-.94-.94-2.06-.94 2.06-2.06.94z\"/><path d=\"M17.41 7.96l-1.37-1.37c-.4-.4-.92-.59-1.43-.59-.52 0-1.04.2-1.43.59L10.3 9.45l-7.72 7.72c-.78.78-.78 2.05 0 2.83L4 21.41c.39.39.9.59 1.41.59.51 0 1.02-.2 1.41-.59l7.78-7.78 2.81-2.81c.8-.78.8-2.07 0-2.86zM5.41 20L4 18.59l7.72-7.72 1.47 1.35L5.41 20z\"/>\n",
              "  </svg>\n",
              "      </button>\n",
              "      \n",
              "  <style>\n",
              "    .colab-df-container {\n",
              "      display:flex;\n",
              "      flex-wrap:wrap;\n",
              "      gap: 12px;\n",
              "    }\n",
              "\n",
              "    .colab-df-convert {\n",
              "      background-color: #E8F0FE;\n",
              "      border: none;\n",
              "      border-radius: 50%;\n",
              "      cursor: pointer;\n",
              "      display: none;\n",
              "      fill: #1967D2;\n",
              "      height: 32px;\n",
              "      padding: 0 0 0 0;\n",
              "      width: 32px;\n",
              "    }\n",
              "\n",
              "    .colab-df-convert:hover {\n",
              "      background-color: #E2EBFA;\n",
              "      box-shadow: 0px 1px 2px rgba(60, 64, 67, 0.3), 0px 1px 3px 1px rgba(60, 64, 67, 0.15);\n",
              "      fill: #174EA6;\n",
              "    }\n",
              "\n",
              "    [theme=dark] .colab-df-convert {\n",
              "      background-color: #3B4455;\n",
              "      fill: #D2E3FC;\n",
              "    }\n",
              "\n",
              "    [theme=dark] .colab-df-convert:hover {\n",
              "      background-color: #434B5C;\n",
              "      box-shadow: 0px 1px 3px 1px rgba(0, 0, 0, 0.15);\n",
              "      filter: drop-shadow(0px 1px 2px rgba(0, 0, 0, 0.3));\n",
              "      fill: #FFFFFF;\n",
              "    }\n",
              "  </style>\n",
              "\n",
              "      <script>\n",
              "        const buttonEl =\n",
              "          document.querySelector('#df-5d3a0d8c-dc79-473e-b2b0-9987e69b2e1b button.colab-df-convert');\n",
              "        buttonEl.style.display =\n",
              "          google.colab.kernel.accessAllowed ? 'block' : 'none';\n",
              "\n",
              "        async function convertToInteractive(key) {\n",
              "          const element = document.querySelector('#df-5d3a0d8c-dc79-473e-b2b0-9987e69b2e1b');\n",
              "          const dataTable =\n",
              "            await google.colab.kernel.invokeFunction('convertToInteractive',\n",
              "                                                     [key], {});\n",
              "          if (!dataTable) return;\n",
              "\n",
              "          const docLinkHtml = 'Like what you see? Visit the ' +\n",
              "            '<a target=\"_blank\" href=https://colab.research.google.com/notebooks/data_table.ipynb>data table notebook</a>'\n",
              "            + ' to learn more about interactive tables.';\n",
              "          element.innerHTML = '';\n",
              "          dataTable['output_type'] = 'display_data';\n",
              "          await google.colab.output.renderOutput(dataTable, element);\n",
              "          const docLink = document.createElement('div');\n",
              "          docLink.innerHTML = docLinkHtml;\n",
              "          element.appendChild(docLink);\n",
              "        }\n",
              "      </script>\n",
              "    </div>\n",
              "  </div>\n",
              "  "
            ]
          },
          "metadata": {},
          "execution_count": 281
        }
      ]
    },
    {
      "cell_type": "markdown",
      "source": [
        "Ratio output not getting"
      ],
      "metadata": {
        "id": "1_HujubnnkMf"
      }
    },
    {
      "cell_type": "code",
      "source": [],
      "metadata": {
        "id": "k9VJocFJhAPm"
      },
      "execution_count": 281,
      "outputs": []
    },
    {
      "cell_type": "markdown",
      "source": [
        "Section II : Data Cleaning"
      ],
      "metadata": {
        "id": "8bpVY4M9oRIR"
      }
    },
    {
      "cell_type": "markdown",
      "source": [
        "Part I : Get the dtypes of all the columns of our dataset"
      ],
      "metadata": {
        "id": "FoXCTsCuoSpb"
      }
    },
    {
      "cell_type": "code",
      "source": [
        "data.dtypes"
      ],
      "metadata": {
        "id": "DFKC2bXVoaKg",
        "colab": {
          "base_uri": "https://localhost:8080/"
        },
        "outputId": "a1be6e02-7216-44bc-977f-90cf98a2fe9c"
      },
      "execution_count": 282,
      "outputs": [
        {
          "output_type": "execute_result",
          "data": {
            "text/plain": [
              "age                object\n",
              "job                object\n",
              "marital            object\n",
              "education          object\n",
              "default            object\n",
              "housing            object\n",
              "loan               object\n",
              "contact            object\n",
              "month              object\n",
              "day_of_week        object\n",
              "duration            int64\n",
              "campaign            int64\n",
              "pdays             float64\n",
              "previous            int64\n",
              "poutcome           object\n",
              "emp_var_rate      float64\n",
              "cons_price_idx    float64\n",
              "cons_conf_idx     float64\n",
              "euribor3m         float64\n",
              "nr_employed       float64\n",
              "y                   int64\n",
              "dtype: object"
            ]
          },
          "metadata": {},
          "execution_count": 282
        }
      ]
    },
    {
      "cell_type": "code",
      "source": [
        "data[\"job\"].value_counts()"
      ],
      "metadata": {
        "colab": {
          "base_uri": "https://localhost:8080/"
        },
        "id": "Ubq19D7keHuM",
        "outputId": "199bebfa-c441-470d-852f-c894a16184cd"
      },
      "execution_count": 283,
      "outputs": [
        {
          "output_type": "execute_result",
          "data": {
            "text/plain": [
              "admin.           10420\n",
              "blue-collar       9253\n",
              "technician        6742\n",
              "services          3966\n",
              "management        2923\n",
              "retired           1717\n",
              "entrepreneur      1456\n",
              "self-employed     1421\n",
              "housemaid         1059\n",
              "unemployed        1014\n",
              "student            873\n",
              "unknown            329\n",
              "RETIRED              3\n",
              "SERVICES             3\n",
              "STUDENT              2\n",
              "ADMIN.               2\n",
              "MANAGEMENT           1\n",
              "TECHNICIAN           1\n",
              "BLUE-COLLAR          1\n",
              "HOUSEMAID            1\n",
              "UNKNOWN              1\n",
              "Name: job, dtype: int64"
            ]
          },
          "metadata": {},
          "execution_count": 283
        }
      ]
    },
    {
      "cell_type": "markdown",
      "source": [
        "Part II : Refering to the UCI data description , explore the data in your columns and check if there are any errors"
      ],
      "metadata": {
        "id": "GR3JqRidojtH"
      }
    },
    {
      "cell_type": "code",
      "source": [
        "data.age.unique()"
      ],
      "metadata": {
        "colab": {
          "base_uri": "https://localhost:8080/"
        },
        "id": "cDCSGCA5SBvy",
        "outputId": "a6d6af96-95c9-46ca-88f7-042866b64dd2"
      },
      "execution_count": 284,
      "outputs": [
        {
          "output_type": "execute_result",
          "data": {
            "text/plain": [
              "array(['44', '53', '28', '39', '55', '30', '37', '36', '27', '34', '41',\n",
              "       '33', '26', '52', '35', '40', '32', '49', '38', '47', '46', '29',\n",
              "       '54', '42', '72', '48', '43', '56', '31', '24', '68', '59', '50',\n",
              "       '45', '35-30', '25', '57', '63', '58', '60', '30-35', '64', '51',\n",
              "       '23', '20', '74', '80', '61', '25-30', '62', '75', '21', '82',\n",
              "       '77', '18-25', '30-32', '70', '50-55', '76', '73', '66', '22',\n",
              "       '71', '19', '79', '88', '65', '67', '81', '18', '84', '69', '98',\n",
              "       '85', '83', '78', '92', '45-50', '20-25', '20-40', '35-40', '86',\n",
              "       '94', '17', '91', '89', '87', '95', '30-40', 56, 39, 30, 53, 37,\n",
              "       22, 45, 31, 24, 50, 58, 33, 27, 28, 32, 51, 41, 49, 43, 44, 35, 29,\n",
              "       26, 57, 25, 42, 48, 46, 67, 38, 34, 54, 40, 23, 47, 62, 75, 55, 36,\n",
              "       52, 59, 78, 70, 60, 20, 66, 61, 21, 88, 18, 68, 71, 73, 80, 79, 63,\n",
              "       76, 83, 65, 19, 86, 17, 72, 69, 81, 64, 77, 74, 85, 82],\n",
              "      dtype=object)"
            ]
          },
          "metadata": {},
          "execution_count": 284
        }
      ]
    },
    {
      "cell_type": "code",
      "source": [
        "data['age'] = data['age'].replace(to_replace='35-30',value='33')"
      ],
      "metadata": {
        "id": "B502TotWV4uT"
      },
      "execution_count": 285,
      "outputs": []
    },
    {
      "cell_type": "code",
      "source": [
        "data['age'].unique()"
      ],
      "metadata": {
        "colab": {
          "base_uri": "https://localhost:8080/"
        },
        "id": "rcGDOxSjWoIq",
        "outputId": "72ed0a97-0aec-46c5-ed74-d9ee2258e29f"
      },
      "execution_count": 286,
      "outputs": [
        {
          "output_type": "execute_result",
          "data": {
            "text/plain": [
              "array(['44', '53', '28', '39', '55', '30', '37', '36', '27', '34', '41',\n",
              "       '33', '26', '52', '35', '40', '32', '49', '38', '47', '46', '29',\n",
              "       '54', '42', '72', '48', '43', '56', '31', '24', '68', '59', '50',\n",
              "       '45', '25', '57', '63', '58', '60', '30-35', '64', '51', '23',\n",
              "       '20', '74', '80', '61', '25-30', '62', '75', '21', '82', '77',\n",
              "       '18-25', '30-32', '70', '50-55', '76', '73', '66', '22', '71',\n",
              "       '19', '79', '88', '65', '67', '81', '18', '84', '69', '98', '85',\n",
              "       '83', '78', '92', '45-50', '20-25', '20-40', '35-40', '86', '94',\n",
              "       '17', '91', '89', '87', '95', '30-40', 56, 39, 30, 53, 37, 22, 45,\n",
              "       31, 24, 50, 58, 33, 27, 28, 32, 51, 41, 49, 43, 44, 35, 29, 26, 57,\n",
              "       25, 42, 48, 46, 67, 38, 34, 54, 40, 23, 47, 62, 75, 55, 36, 52, 59,\n",
              "       78, 70, 60, 20, 66, 61, 21, 88, 18, 68, 71, 73, 80, 79, 63, 76, 83,\n",
              "       65, 19, 86, 17, 72, 69, 81, 64, 77, 74, 85, 82], dtype=object)"
            ]
          },
          "metadata": {},
          "execution_count": 286
        }
      ]
    },
    {
      "cell_type": "code",
      "source": [
        "data['age'] = data['age'].replace(to_replace='18-25',value='22')"
      ],
      "metadata": {
        "id": "ocMfHOafZCj0"
      },
      "execution_count": 287,
      "outputs": []
    },
    {
      "cell_type": "code",
      "source": [
        "data['age'].unique()"
      ],
      "metadata": {
        "colab": {
          "base_uri": "https://localhost:8080/"
        },
        "id": "ViDRthqnZMyo",
        "outputId": "9c69da80-2ebc-4bfa-9dc6-fb971cd4bdfb"
      },
      "execution_count": 288,
      "outputs": [
        {
          "output_type": "execute_result",
          "data": {
            "text/plain": [
              "array(['44', '53', '28', '39', '55', '30', '37', '36', '27', '34', '41',\n",
              "       '33', '26', '52', '35', '40', '32', '49', '38', '47', '46', '29',\n",
              "       '54', '42', '72', '48', '43', '56', '31', '24', '68', '59', '50',\n",
              "       '45', '25', '57', '63', '58', '60', '30-35', '64', '51', '23',\n",
              "       '20', '74', '80', '61', '25-30', '62', '75', '21', '82', '77',\n",
              "       '22', '30-32', '70', '50-55', '76', '73', '66', '71', '19', '79',\n",
              "       '88', '65', '67', '81', '18', '84', '69', '98', '85', '83', '78',\n",
              "       '92', '45-50', '20-25', '20-40', '35-40', '86', '94', '17', '91',\n",
              "       '89', '87', '95', '30-40', 56, 39, 30, 53, 37, 22, 45, 31, 24, 50,\n",
              "       58, 33, 27, 28, 32, 51, 41, 49, 43, 44, 35, 29, 26, 57, 25, 42, 48,\n",
              "       46, 67, 38, 34, 54, 40, 23, 47, 62, 75, 55, 36, 52, 59, 78, 70, 60,\n",
              "       20, 66, 61, 21, 88, 18, 68, 71, 73, 80, 79, 63, 76, 83, 65, 19, 86,\n",
              "       17, 72, 69, 81, 64, 77, 74, 85, 82], dtype=object)"
            ]
          },
          "metadata": {},
          "execution_count": 288
        }
      ]
    },
    {
      "cell_type": "code",
      "source": [
        "data['age'] = data['age'].replace(to_replace='30-32',value='31')"
      ],
      "metadata": {
        "id": "NB9C5lGoZo0S"
      },
      "execution_count": 289,
      "outputs": []
    },
    {
      "cell_type": "code",
      "source": [
        "data['age'] = data['age'].replace(to_replace='45-50',value='46')"
      ],
      "metadata": {
        "id": "cyaesqfvZpwp"
      },
      "execution_count": 290,
      "outputs": []
    },
    {
      "cell_type": "code",
      "source": [
        "data['age'] = data['age'].replace(to_replace='20-25',value='22')"
      ],
      "metadata": {
        "id": "olR3r3LMZqUk"
      },
      "execution_count": 291,
      "outputs": []
    },
    {
      "cell_type": "code",
      "source": [
        "data['age'] = data['age'].replace(to_replace='20-40',value='30')"
      ],
      "metadata": {
        "id": "-q2kiXdUZqvJ"
      },
      "execution_count": 292,
      "outputs": []
    },
    {
      "cell_type": "code",
      "source": [
        "data['age'] = data['age'].replace(to_replace='35-40',value='36')"
      ],
      "metadata": {
        "id": "aehy9QFBZrF8"
      },
      "execution_count": 293,
      "outputs": []
    },
    {
      "cell_type": "code",
      "source": [
        "data['age'] = data['age'].replace(to_replace='30-40',value='35')"
      ],
      "metadata": {
        "id": "FsolY7csZrY0"
      },
      "execution_count": 294,
      "outputs": []
    },
    {
      "cell_type": "code",
      "source": [
        "data['age'] = data['age'].replace(to_replace='50-55',value='52')"
      ],
      "metadata": {
        "id": "ZTM9Q12VbCMm"
      },
      "execution_count": 295,
      "outputs": []
    },
    {
      "cell_type": "code",
      "source": [
        "data['age'] = data['age'].replace(to_replace='25-30',value='26')"
      ],
      "metadata": {
        "id": "AGNuyw03bNHS"
      },
      "execution_count": 296,
      "outputs": []
    },
    {
      "cell_type": "code",
      "source": [
        "data['age'] = data['age'].replace(to_replace='30-35',value='34')"
      ],
      "metadata": {
        "id": "0VVvrGaPdItE"
      },
      "execution_count": 297,
      "outputs": []
    },
    {
      "cell_type": "code",
      "source": [
        "data['age'].unique()  #30-35 "
      ],
      "metadata": {
        "colab": {
          "base_uri": "https://localhost:8080/"
        },
        "id": "jdCAOx6Ja0vx",
        "outputId": "3c548f04-fef9-4fe2-be1f-a3ea96231658"
      },
      "execution_count": 298,
      "outputs": [
        {
          "output_type": "execute_result",
          "data": {
            "text/plain": [
              "array(['44', '53', '28', '39', '55', '30', '37', '36', '27', '34', '41',\n",
              "       '33', '26', '52', '35', '40', '32', '49', '38', '47', '46', '29',\n",
              "       '54', '42', '72', '48', '43', '56', '31', '24', '68', '59', '50',\n",
              "       '45', '25', '57', '63', '58', '60', '64', '51', '23', '20', '74',\n",
              "       '80', '61', '62', '75', '21', '82', '77', '22', '70', '76', '73',\n",
              "       '66', '71', '19', '79', '88', '65', '67', '81', '18', '84', '69',\n",
              "       '98', '85', '83', '78', '92', '86', '94', '17', '91', '89', '87',\n",
              "       '95', 56, 39, 30, 53, 37, 22, 45, 31, 24, 50, 58, 33, 27, 28, 32,\n",
              "       51, 41, 49, 43, 44, 35, 29, 26, 57, 25, 42, 48, 46, 67, 38, 34, 54,\n",
              "       40, 23, 47, 62, 75, 55, 36, 52, 59, 78, 70, 60, 20, 66, 61, 21, 88,\n",
              "       18, 68, 71, 73, 80, 79, 63, 76, 83, 65, 19, 86, 17, 72, 69, 81, 64,\n",
              "       77, 74, 85, 82], dtype=object)"
            ]
          },
          "metadata": {},
          "execution_count": 298
        }
      ]
    },
    {
      "cell_type": "code",
      "source": [
        "data[\"age\"] = data[\"age\"].astype(int)"
      ],
      "metadata": {
        "id": "oVjF_EqidFih"
      },
      "execution_count": 299,
      "outputs": []
    },
    {
      "cell_type": "code",
      "source": [
        "data[\"age\"].dtype"
      ],
      "metadata": {
        "colab": {
          "base_uri": "https://localhost:8080/"
        },
        "id": "O_CbmDC5dE2p",
        "outputId": "40c17185-bf90-4526-f5fc-aab4119a0404"
      },
      "execution_count": 300,
      "outputs": [
        {
          "output_type": "execute_result",
          "data": {
            "text/plain": [
              "dtype('int64')"
            ]
          },
          "metadata": {},
          "execution_count": 300
        }
      ]
    },
    {
      "cell_type": "code",
      "source": [
        "from sklearn import preprocessing\n",
        "\n",
        "le = preprocessing.LabelEncoder()\n",
        "\n",
        "data['housing'] = le.fit_transform(data['housing'])"
      ],
      "metadata": {
        "id": "hx5h4FamWa6S"
      },
      "execution_count": 301,
      "outputs": []
    },
    {
      "cell_type": "code",
      "source": [
        "data.housing.unique()"
      ],
      "metadata": {
        "id": "jl_Cr1lrolNc",
        "colab": {
          "base_uri": "https://localhost:8080/"
        },
        "outputId": "93e69004-0e94-4fc3-8ed3-4f398737b600"
      },
      "execution_count": 302,
      "outputs": [
        {
          "output_type": "execute_result",
          "data": {
            "text/plain": [
              "array([2, 0, 1])"
            ]
          },
          "metadata": {},
          "execution_count": 302
        }
      ]
    },
    {
      "cell_type": "markdown",
      "source": [
        "# Reduce the categories of education column for better modelling. Lets goup \"basic.9y\" and \"basic.6y\" together and call them \"basic\""
      ],
      "metadata": {
        "id": "VhN-ZBPBcexH"
      }
    },
    {
      "cell_type": "code",
      "source": [
        "data['education']=np.where(data['education'] == 'basic.9y', 'Basic',data['education'])\n",
        "data['education']=np.where(data['education'] == 'basic.6y', 'Basic',data['education'])\n",
        "data['education']=np.where(data['education'] == 'basic.4y', 'Basic',data['education'])"
      ],
      "metadata": {
        "id": "Cq82aDjQcc-o"
      },
      "execution_count": 303,
      "outputs": []
    },
    {
      "cell_type": "code",
      "source": [
        "data['education'] = data['education'].replace({'basic-6y':'Basic','basic-9y':'Basic', 'basic-4y':'Basic', 'unknown' : 'Basic'})"
      ],
      "metadata": {
        "id": "2xIDXflsgkOG"
      },
      "execution_count": 304,
      "outputs": []
    },
    {
      "cell_type": "code",
      "source": [
        "data['education'].unique()"
      ],
      "metadata": {
        "colab": {
          "base_uri": "https://localhost:8080/"
        },
        "id": "OgFjqi6LeBmp",
        "outputId": "4bce24ee-f5a4-4ba2-9565-f85deb97dd02"
      },
      "execution_count": 305,
      "outputs": [
        {
          "output_type": "execute_result",
          "data": {
            "text/plain": [
              "array(['Basic', 'university.degree', 'high.school', 'professional.course',\n",
              "       'illiterate'], dtype=object)"
            ]
          },
          "metadata": {},
          "execution_count": 305
        }
      ]
    },
    {
      "cell_type": "markdown",
      "source": [
        "Part III : Make note of the deviation in the dataset compared to the description provided by UCI"
      ],
      "metadata": {
        "id": "dVpYb9Qgom1V"
      }
    },
    {
      "cell_type": "code",
      "source": [],
      "metadata": {
        "id": "nkO2fqjootbV"
      },
      "execution_count": 305,
      "outputs": []
    },
    {
      "cell_type": "markdown",
      "source": [
        "Part IV : Using Data Cleaning principles you learned from Pandas Tutorial) figure out the best ways to get rid of the dirty data Part V : Print the cleaned data"
      ],
      "metadata": {
        "id": "PVLvjkh8ouUF"
      }
    },
    {
      "cell_type": "code",
      "source": [],
      "metadata": {
        "id": "vSQOMPUco1nR"
      },
      "execution_count": 305,
      "outputs": []
    },
    {
      "cell_type": "markdown",
      "source": [
        "Section III : Exploring data with Group by"
      ],
      "metadata": {
        "id": "KbLl_9coo9cm"
      }
    },
    {
      "cell_type": "markdown",
      "source": [
        "Use the groupby function on the mean of the following columns :\n",
        "\n",
        "I : y"
      ],
      "metadata": {
        "id": "pticmMyIpG0C"
      }
    },
    {
      "cell_type": "code",
      "source": [
        "data.groupby(['y']).mean()"
      ],
      "metadata": {
        "id": "7uDfq2jApN1I",
        "colab": {
          "base_uri": "https://localhost:8080/",
          "height": 143
        },
        "outputId": "016449f7-b431-4a9a-d2e0-b9f20d6ce83f"
      },
      "execution_count": 306,
      "outputs": [
        {
          "output_type": "execute_result",
          "data": {
            "text/plain": [
              "         age   housing    duration  campaign       pdays  previous  \\\n",
              "y                                                                    \n",
              "0  39.910693  1.067664  220.844807  2.633085  985.345135  0.132374   \n",
              "1  40.913147  1.103664  553.191164  2.051724  792.035560  0.492672   \n",
              "\n",
              "   emp_var_rate  cons_price_idx  cons_conf_idx  euribor3m  nr_employed  \n",
              "y                                                                       \n",
              "0      0.248875       93.603757     -40.593097   3.811491  5176.166600  \n",
              "1     -1.233448       93.354386     -39.789784   2.123135  5095.115991  "
            ],
            "text/html": [
              "\n",
              "  <div id=\"df-9980fd24-7a27-43a5-8a61-a3c869cdb2e3\">\n",
              "    <div class=\"colab-df-container\">\n",
              "      <div>\n",
              "<style scoped>\n",
              "    .dataframe tbody tr th:only-of-type {\n",
              "        vertical-align: middle;\n",
              "    }\n",
              "\n",
              "    .dataframe tbody tr th {\n",
              "        vertical-align: top;\n",
              "    }\n",
              "\n",
              "    .dataframe thead th {\n",
              "        text-align: right;\n",
              "    }\n",
              "</style>\n",
              "<table border=\"1\" class=\"dataframe\">\n",
              "  <thead>\n",
              "    <tr style=\"text-align: right;\">\n",
              "      <th></th>\n",
              "      <th>age</th>\n",
              "      <th>housing</th>\n",
              "      <th>duration</th>\n",
              "      <th>campaign</th>\n",
              "      <th>pdays</th>\n",
              "      <th>previous</th>\n",
              "      <th>emp_var_rate</th>\n",
              "      <th>cons_price_idx</th>\n",
              "      <th>cons_conf_idx</th>\n",
              "      <th>euribor3m</th>\n",
              "      <th>nr_employed</th>\n",
              "    </tr>\n",
              "    <tr>\n",
              "      <th>y</th>\n",
              "      <th></th>\n",
              "      <th></th>\n",
              "      <th></th>\n",
              "      <th></th>\n",
              "      <th></th>\n",
              "      <th></th>\n",
              "      <th></th>\n",
              "      <th></th>\n",
              "      <th></th>\n",
              "      <th></th>\n",
              "      <th></th>\n",
              "    </tr>\n",
              "  </thead>\n",
              "  <tbody>\n",
              "    <tr>\n",
              "      <th>0</th>\n",
              "      <td>39.910693</td>\n",
              "      <td>1.067664</td>\n",
              "      <td>220.844807</td>\n",
              "      <td>2.633085</td>\n",
              "      <td>985.345135</td>\n",
              "      <td>0.132374</td>\n",
              "      <td>0.248875</td>\n",
              "      <td>93.603757</td>\n",
              "      <td>-40.593097</td>\n",
              "      <td>3.811491</td>\n",
              "      <td>5176.166600</td>\n",
              "    </tr>\n",
              "    <tr>\n",
              "      <th>1</th>\n",
              "      <td>40.913147</td>\n",
              "      <td>1.103664</td>\n",
              "      <td>553.191164</td>\n",
              "      <td>2.051724</td>\n",
              "      <td>792.035560</td>\n",
              "      <td>0.492672</td>\n",
              "      <td>-1.233448</td>\n",
              "      <td>93.354386</td>\n",
              "      <td>-39.789784</td>\n",
              "      <td>2.123135</td>\n",
              "      <td>5095.115991</td>\n",
              "    </tr>\n",
              "  </tbody>\n",
              "</table>\n",
              "</div>\n",
              "      <button class=\"colab-df-convert\" onclick=\"convertToInteractive('df-9980fd24-7a27-43a5-8a61-a3c869cdb2e3')\"\n",
              "              title=\"Convert this dataframe to an interactive table.\"\n",
              "              style=\"display:none;\">\n",
              "        \n",
              "  <svg xmlns=\"http://www.w3.org/2000/svg\" height=\"24px\"viewBox=\"0 0 24 24\"\n",
              "       width=\"24px\">\n",
              "    <path d=\"M0 0h24v24H0V0z\" fill=\"none\"/>\n",
              "    <path d=\"M18.56 5.44l.94 2.06.94-2.06 2.06-.94-2.06-.94-.94-2.06-.94 2.06-2.06.94zm-11 1L8.5 8.5l.94-2.06 2.06-.94-2.06-.94L8.5 2.5l-.94 2.06-2.06.94zm10 10l.94 2.06.94-2.06 2.06-.94-2.06-.94-.94-2.06-.94 2.06-2.06.94z\"/><path d=\"M17.41 7.96l-1.37-1.37c-.4-.4-.92-.59-1.43-.59-.52 0-1.04.2-1.43.59L10.3 9.45l-7.72 7.72c-.78.78-.78 2.05 0 2.83L4 21.41c.39.39.9.59 1.41.59.51 0 1.02-.2 1.41-.59l7.78-7.78 2.81-2.81c.8-.78.8-2.07 0-2.86zM5.41 20L4 18.59l7.72-7.72 1.47 1.35L5.41 20z\"/>\n",
              "  </svg>\n",
              "      </button>\n",
              "      \n",
              "  <style>\n",
              "    .colab-df-container {\n",
              "      display:flex;\n",
              "      flex-wrap:wrap;\n",
              "      gap: 12px;\n",
              "    }\n",
              "\n",
              "    .colab-df-convert {\n",
              "      background-color: #E8F0FE;\n",
              "      border: none;\n",
              "      border-radius: 50%;\n",
              "      cursor: pointer;\n",
              "      display: none;\n",
              "      fill: #1967D2;\n",
              "      height: 32px;\n",
              "      padding: 0 0 0 0;\n",
              "      width: 32px;\n",
              "    }\n",
              "\n",
              "    .colab-df-convert:hover {\n",
              "      background-color: #E2EBFA;\n",
              "      box-shadow: 0px 1px 2px rgba(60, 64, 67, 0.3), 0px 1px 3px 1px rgba(60, 64, 67, 0.15);\n",
              "      fill: #174EA6;\n",
              "    }\n",
              "\n",
              "    [theme=dark] .colab-df-convert {\n",
              "      background-color: #3B4455;\n",
              "      fill: #D2E3FC;\n",
              "    }\n",
              "\n",
              "    [theme=dark] .colab-df-convert:hover {\n",
              "      background-color: #434B5C;\n",
              "      box-shadow: 0px 1px 3px 1px rgba(0, 0, 0, 0.15);\n",
              "      filter: drop-shadow(0px 1px 2px rgba(0, 0, 0, 0.3));\n",
              "      fill: #FFFFFF;\n",
              "    }\n",
              "  </style>\n",
              "\n",
              "      <script>\n",
              "        const buttonEl =\n",
              "          document.querySelector('#df-9980fd24-7a27-43a5-8a61-a3c869cdb2e3 button.colab-df-convert');\n",
              "        buttonEl.style.display =\n",
              "          google.colab.kernel.accessAllowed ? 'block' : 'none';\n",
              "\n",
              "        async function convertToInteractive(key) {\n",
              "          const element = document.querySelector('#df-9980fd24-7a27-43a5-8a61-a3c869cdb2e3');\n",
              "          const dataTable =\n",
              "            await google.colab.kernel.invokeFunction('convertToInteractive',\n",
              "                                                     [key], {});\n",
              "          if (!dataTable) return;\n",
              "\n",
              "          const docLinkHtml = 'Like what you see? Visit the ' +\n",
              "            '<a target=\"_blank\" href=https://colab.research.google.com/notebooks/data_table.ipynb>data table notebook</a>'\n",
              "            + ' to learn more about interactive tables.';\n",
              "          element.innerHTML = '';\n",
              "          dataTable['output_type'] = 'display_data';\n",
              "          await google.colab.output.renderOutput(dataTable, element);\n",
              "          const docLink = document.createElement('div');\n",
              "          docLink.innerHTML = docLinkHtml;\n",
              "          element.appendChild(docLink);\n",
              "        }\n",
              "      </script>\n",
              "    </div>\n",
              "  </div>\n",
              "  "
            ]
          },
          "metadata": {},
          "execution_count": 306
        }
      ]
    },
    {
      "cell_type": "markdown",
      "source": [
        "II : job"
      ],
      "metadata": {
        "id": "NgOxsW7BqiAI"
      }
    },
    {
      "cell_type": "code",
      "source": [
        "data.groupby(['job']).mean()"
      ],
      "metadata": {
        "id": "_nQAK7RqqkkY",
        "colab": {
          "base_uri": "https://localhost:8080/",
          "height": 803
        },
        "outputId": "e6da75d3-eba5-490f-b415-be7249bcfa54"
      },
      "execution_count": 307,
      "outputs": [
        {
          "output_type": "execute_result",
          "data": {
            "text/plain": [
              "                     age   housing     duration  campaign       pdays  \\\n",
              "job                                                                     \n",
              "ADMIN.         35.000000  1.000000   637.000000  1.500000  999.000000   \n",
              "BLUE-COLLAR    47.000000  2.000000     5.000000  7.000000  999.000000   \n",
              "HOUSEMAID      36.000000  0.000000    84.000000  1.000000  999.000000   \n",
              "MANAGEMENT     36.000000  0.000000  1225.000000  2.000000  999.000000   \n",
              "RETIRED        69.666667  2.000000   545.000000  1.666667  668.000000   \n",
              "SERVICES       37.333333  1.333333   238.333333  2.000000  999.000000   \n",
              "STUDENT        24.500000  0.500000   638.500000  1.500000  505.500000   \n",
              "TECHNICIAN     37.000000  2.000000   834.000000  9.000000  999.000000   \n",
              "UNKNOWN        52.000000  0.000000    54.000000  4.000000  999.000000   \n",
              "admin.         38.187620  1.088580   254.238676  2.623704  956.038100   \n",
              "blue-collar    39.554415  1.043770   264.570410  2.557981  987.104182   \n",
              "entrepreneur   41.723214  1.094780   263.267857  2.535714  987.448489   \n",
              "housemaid      45.508971  1.047214   250.611898  2.641171  960.542965   \n",
              "management     42.362641  1.043791   256.726993  2.476223  962.634622   \n",
              "retired        62.013978  1.061153   273.238206  2.478160  898.337798   \n",
              "self-employed  39.946517  1.069669   264.142153  2.660802  976.621393   \n",
              "services       37.927383  1.058245   258.413263  2.588250  979.959657   \n",
              "student        25.898053  1.104238   282.870561  2.105384  840.983963   \n",
              "technician     38.506971  1.094186   250.145654  2.576387  964.402996   \n",
              "unemployed     39.738659  1.125247   249.451677  2.564103  935.316568   \n",
              "unknown        45.544073  1.060790   240.240122  2.644377  938.544073   \n",
              "\n",
              "               previous  emp_var_rate  cons_price_idx  cons_conf_idx  \\\n",
              "job                                                                    \n",
              "ADMIN.         0.000000      1.100000       93.994000     -36.400000   \n",
              "BLUE-COLLAR    1.000000     -1.800000       92.893000     -46.200000   \n",
              "HOUSEMAID      0.000000     -0.100000       93.200000     -42.000000   \n",
              "MANAGEMENT     0.000000     -2.900000       92.201000     -31.400000   \n",
              "RETIRED        1.000000     -1.566667       93.142667     -37.233333   \n",
              "SERVICES       0.000000      1.200000       94.151000     -38.200000   \n",
              "STUDENT        0.500000     -1.750000       94.045500     -40.150000   \n",
              "TECHNICIAN     0.000000      1.100000       93.994000     -36.400000   \n",
              "UNKNOWN        0.000000      1.100000       93.994000     -36.400000   \n",
              "admin.         0.189060      0.015355       93.533965     -40.246171   \n",
              "blue-collar    0.122447      0.249216       93.656738     -41.375294   \n",
              "entrepreneur   0.138736      0.158723       93.605372     -41.283654   \n",
              "housemaid      0.137866      0.433900       93.677026     -39.492918   \n",
              "management     0.185084     -0.011700       93.523208     -40.492576   \n",
              "retired        0.326150     -0.696797       93.431289     -38.575422   \n",
              "self-employed  0.143561      0.094159       93.559982     -40.488107   \n",
              "services       0.155068      0.174584       93.634268     -41.292385   \n",
              "student        0.524628     -1.407216       93.329977     -40.187629   \n",
              "technician     0.153812      0.274444       93.561407     -39.928093   \n",
              "unemployed     0.199211     -0.111736       93.563781     -40.007594   \n",
              "unknown        0.155015      0.355623       93.718106     -38.805167   \n",
              "\n",
              "               euribor3m  nr_employed         y  \n",
              "job                                              \n",
              "ADMIN.          4.858500  5191.000000  0.000000  \n",
              "BLUE-COLLAR     1.281000  5099.100000  0.000000  \n",
              "HOUSEMAID       4.153000  5195.800000  0.000000  \n",
              "MANAGEMENT      0.884000  5076.200000  0.000000  \n",
              "RETIRED         1.976667  5087.866667  0.333333  \n",
              "SERVICES        4.892000  5203.366667  0.000000  \n",
              "STUDENT         0.752500  5000.150000  1.000000  \n",
              "TECHNICIAN      4.855000  5191.000000  0.000000  \n",
              "UNKNOWN         4.864000  5191.000000  0.000000  \n",
              "admin.          3.550023  5164.120192  0.129750  \n",
              "blue-collar     3.772265  5175.623419  0.068951  \n",
              "entrepreneur    3.791120  5176.313530  0.085165  \n",
              "housemaid       4.009510  5179.514259  0.100094  \n",
              "management      3.612249  5166.681457  0.112213  \n",
              "retired         2.771453  5122.322248  0.252184  \n",
              "self-employed   3.689376  5170.674384  0.104856  \n",
              "services        3.698284  5171.576097  0.081442  \n",
              "student         1.886817  5086.135624  0.312715  \n",
              "technician      3.820247  5175.646114  0.108276  \n",
              "unemployed      3.466583  5157.156509  0.142012  \n",
              "unknown         3.946252  5172.876900  0.112462  "
            ],
            "text/html": [
              "\n",
              "  <div id=\"df-ad41b9b4-87c3-4212-b02b-9e09e0436e12\">\n",
              "    <div class=\"colab-df-container\">\n",
              "      <div>\n",
              "<style scoped>\n",
              "    .dataframe tbody tr th:only-of-type {\n",
              "        vertical-align: middle;\n",
              "    }\n",
              "\n",
              "    .dataframe tbody tr th {\n",
              "        vertical-align: top;\n",
              "    }\n",
              "\n",
              "    .dataframe thead th {\n",
              "        text-align: right;\n",
              "    }\n",
              "</style>\n",
              "<table border=\"1\" class=\"dataframe\">\n",
              "  <thead>\n",
              "    <tr style=\"text-align: right;\">\n",
              "      <th></th>\n",
              "      <th>age</th>\n",
              "      <th>housing</th>\n",
              "      <th>duration</th>\n",
              "      <th>campaign</th>\n",
              "      <th>pdays</th>\n",
              "      <th>previous</th>\n",
              "      <th>emp_var_rate</th>\n",
              "      <th>cons_price_idx</th>\n",
              "      <th>cons_conf_idx</th>\n",
              "      <th>euribor3m</th>\n",
              "      <th>nr_employed</th>\n",
              "      <th>y</th>\n",
              "    </tr>\n",
              "    <tr>\n",
              "      <th>job</th>\n",
              "      <th></th>\n",
              "      <th></th>\n",
              "      <th></th>\n",
              "      <th></th>\n",
              "      <th></th>\n",
              "      <th></th>\n",
              "      <th></th>\n",
              "      <th></th>\n",
              "      <th></th>\n",
              "      <th></th>\n",
              "      <th></th>\n",
              "      <th></th>\n",
              "    </tr>\n",
              "  </thead>\n",
              "  <tbody>\n",
              "    <tr>\n",
              "      <th>ADMIN.</th>\n",
              "      <td>35.000000</td>\n",
              "      <td>1.000000</td>\n",
              "      <td>637.000000</td>\n",
              "      <td>1.500000</td>\n",
              "      <td>999.000000</td>\n",
              "      <td>0.000000</td>\n",
              "      <td>1.100000</td>\n",
              "      <td>93.994000</td>\n",
              "      <td>-36.400000</td>\n",
              "      <td>4.858500</td>\n",
              "      <td>5191.000000</td>\n",
              "      <td>0.000000</td>\n",
              "    </tr>\n",
              "    <tr>\n",
              "      <th>BLUE-COLLAR</th>\n",
              "      <td>47.000000</td>\n",
              "      <td>2.000000</td>\n",
              "      <td>5.000000</td>\n",
              "      <td>7.000000</td>\n",
              "      <td>999.000000</td>\n",
              "      <td>1.000000</td>\n",
              "      <td>-1.800000</td>\n",
              "      <td>92.893000</td>\n",
              "      <td>-46.200000</td>\n",
              "      <td>1.281000</td>\n",
              "      <td>5099.100000</td>\n",
              "      <td>0.000000</td>\n",
              "    </tr>\n",
              "    <tr>\n",
              "      <th>HOUSEMAID</th>\n",
              "      <td>36.000000</td>\n",
              "      <td>0.000000</td>\n",
              "      <td>84.000000</td>\n",
              "      <td>1.000000</td>\n",
              "      <td>999.000000</td>\n",
              "      <td>0.000000</td>\n",
              "      <td>-0.100000</td>\n",
              "      <td>93.200000</td>\n",
              "      <td>-42.000000</td>\n",
              "      <td>4.153000</td>\n",
              "      <td>5195.800000</td>\n",
              "      <td>0.000000</td>\n",
              "    </tr>\n",
              "    <tr>\n",
              "      <th>MANAGEMENT</th>\n",
              "      <td>36.000000</td>\n",
              "      <td>0.000000</td>\n",
              "      <td>1225.000000</td>\n",
              "      <td>2.000000</td>\n",
              "      <td>999.000000</td>\n",
              "      <td>0.000000</td>\n",
              "      <td>-2.900000</td>\n",
              "      <td>92.201000</td>\n",
              "      <td>-31.400000</td>\n",
              "      <td>0.884000</td>\n",
              "      <td>5076.200000</td>\n",
              "      <td>0.000000</td>\n",
              "    </tr>\n",
              "    <tr>\n",
              "      <th>RETIRED</th>\n",
              "      <td>69.666667</td>\n",
              "      <td>2.000000</td>\n",
              "      <td>545.000000</td>\n",
              "      <td>1.666667</td>\n",
              "      <td>668.000000</td>\n",
              "      <td>1.000000</td>\n",
              "      <td>-1.566667</td>\n",
              "      <td>93.142667</td>\n",
              "      <td>-37.233333</td>\n",
              "      <td>1.976667</td>\n",
              "      <td>5087.866667</td>\n",
              "      <td>0.333333</td>\n",
              "    </tr>\n",
              "    <tr>\n",
              "      <th>SERVICES</th>\n",
              "      <td>37.333333</td>\n",
              "      <td>1.333333</td>\n",
              "      <td>238.333333</td>\n",
              "      <td>2.000000</td>\n",
              "      <td>999.000000</td>\n",
              "      <td>0.000000</td>\n",
              "      <td>1.200000</td>\n",
              "      <td>94.151000</td>\n",
              "      <td>-38.200000</td>\n",
              "      <td>4.892000</td>\n",
              "      <td>5203.366667</td>\n",
              "      <td>0.000000</td>\n",
              "    </tr>\n",
              "    <tr>\n",
              "      <th>STUDENT</th>\n",
              "      <td>24.500000</td>\n",
              "      <td>0.500000</td>\n",
              "      <td>638.500000</td>\n",
              "      <td>1.500000</td>\n",
              "      <td>505.500000</td>\n",
              "      <td>0.500000</td>\n",
              "      <td>-1.750000</td>\n",
              "      <td>94.045500</td>\n",
              "      <td>-40.150000</td>\n",
              "      <td>0.752500</td>\n",
              "      <td>5000.150000</td>\n",
              "      <td>1.000000</td>\n",
              "    </tr>\n",
              "    <tr>\n",
              "      <th>TECHNICIAN</th>\n",
              "      <td>37.000000</td>\n",
              "      <td>2.000000</td>\n",
              "      <td>834.000000</td>\n",
              "      <td>9.000000</td>\n",
              "      <td>999.000000</td>\n",
              "      <td>0.000000</td>\n",
              "      <td>1.100000</td>\n",
              "      <td>93.994000</td>\n",
              "      <td>-36.400000</td>\n",
              "      <td>4.855000</td>\n",
              "      <td>5191.000000</td>\n",
              "      <td>0.000000</td>\n",
              "    </tr>\n",
              "    <tr>\n",
              "      <th>UNKNOWN</th>\n",
              "      <td>52.000000</td>\n",
              "      <td>0.000000</td>\n",
              "      <td>54.000000</td>\n",
              "      <td>4.000000</td>\n",
              "      <td>999.000000</td>\n",
              "      <td>0.000000</td>\n",
              "      <td>1.100000</td>\n",
              "      <td>93.994000</td>\n",
              "      <td>-36.400000</td>\n",
              "      <td>4.864000</td>\n",
              "      <td>5191.000000</td>\n",
              "      <td>0.000000</td>\n",
              "    </tr>\n",
              "    <tr>\n",
              "      <th>admin.</th>\n",
              "      <td>38.187620</td>\n",
              "      <td>1.088580</td>\n",
              "      <td>254.238676</td>\n",
              "      <td>2.623704</td>\n",
              "      <td>956.038100</td>\n",
              "      <td>0.189060</td>\n",
              "      <td>0.015355</td>\n",
              "      <td>93.533965</td>\n",
              "      <td>-40.246171</td>\n",
              "      <td>3.550023</td>\n",
              "      <td>5164.120192</td>\n",
              "      <td>0.129750</td>\n",
              "    </tr>\n",
              "    <tr>\n",
              "      <th>blue-collar</th>\n",
              "      <td>39.554415</td>\n",
              "      <td>1.043770</td>\n",
              "      <td>264.570410</td>\n",
              "      <td>2.557981</td>\n",
              "      <td>987.104182</td>\n",
              "      <td>0.122447</td>\n",
              "      <td>0.249216</td>\n",
              "      <td>93.656738</td>\n",
              "      <td>-41.375294</td>\n",
              "      <td>3.772265</td>\n",
              "      <td>5175.623419</td>\n",
              "      <td>0.068951</td>\n",
              "    </tr>\n",
              "    <tr>\n",
              "      <th>entrepreneur</th>\n",
              "      <td>41.723214</td>\n",
              "      <td>1.094780</td>\n",
              "      <td>263.267857</td>\n",
              "      <td>2.535714</td>\n",
              "      <td>987.448489</td>\n",
              "      <td>0.138736</td>\n",
              "      <td>0.158723</td>\n",
              "      <td>93.605372</td>\n",
              "      <td>-41.283654</td>\n",
              "      <td>3.791120</td>\n",
              "      <td>5176.313530</td>\n",
              "      <td>0.085165</td>\n",
              "    </tr>\n",
              "    <tr>\n",
              "      <th>housemaid</th>\n",
              "      <td>45.508971</td>\n",
              "      <td>1.047214</td>\n",
              "      <td>250.611898</td>\n",
              "      <td>2.641171</td>\n",
              "      <td>960.542965</td>\n",
              "      <td>0.137866</td>\n",
              "      <td>0.433900</td>\n",
              "      <td>93.677026</td>\n",
              "      <td>-39.492918</td>\n",
              "      <td>4.009510</td>\n",
              "      <td>5179.514259</td>\n",
              "      <td>0.100094</td>\n",
              "    </tr>\n",
              "    <tr>\n",
              "      <th>management</th>\n",
              "      <td>42.362641</td>\n",
              "      <td>1.043791</td>\n",
              "      <td>256.726993</td>\n",
              "      <td>2.476223</td>\n",
              "      <td>962.634622</td>\n",
              "      <td>0.185084</td>\n",
              "      <td>-0.011700</td>\n",
              "      <td>93.523208</td>\n",
              "      <td>-40.492576</td>\n",
              "      <td>3.612249</td>\n",
              "      <td>5166.681457</td>\n",
              "      <td>0.112213</td>\n",
              "    </tr>\n",
              "    <tr>\n",
              "      <th>retired</th>\n",
              "      <td>62.013978</td>\n",
              "      <td>1.061153</td>\n",
              "      <td>273.238206</td>\n",
              "      <td>2.478160</td>\n",
              "      <td>898.337798</td>\n",
              "      <td>0.326150</td>\n",
              "      <td>-0.696797</td>\n",
              "      <td>93.431289</td>\n",
              "      <td>-38.575422</td>\n",
              "      <td>2.771453</td>\n",
              "      <td>5122.322248</td>\n",
              "      <td>0.252184</td>\n",
              "    </tr>\n",
              "    <tr>\n",
              "      <th>self-employed</th>\n",
              "      <td>39.946517</td>\n",
              "      <td>1.069669</td>\n",
              "      <td>264.142153</td>\n",
              "      <td>2.660802</td>\n",
              "      <td>976.621393</td>\n",
              "      <td>0.143561</td>\n",
              "      <td>0.094159</td>\n",
              "      <td>93.559982</td>\n",
              "      <td>-40.488107</td>\n",
              "      <td>3.689376</td>\n",
              "      <td>5170.674384</td>\n",
              "      <td>0.104856</td>\n",
              "    </tr>\n",
              "    <tr>\n",
              "      <th>services</th>\n",
              "      <td>37.927383</td>\n",
              "      <td>1.058245</td>\n",
              "      <td>258.413263</td>\n",
              "      <td>2.588250</td>\n",
              "      <td>979.959657</td>\n",
              "      <td>0.155068</td>\n",
              "      <td>0.174584</td>\n",
              "      <td>93.634268</td>\n",
              "      <td>-41.292385</td>\n",
              "      <td>3.698284</td>\n",
              "      <td>5171.576097</td>\n",
              "      <td>0.081442</td>\n",
              "    </tr>\n",
              "    <tr>\n",
              "      <th>student</th>\n",
              "      <td>25.898053</td>\n",
              "      <td>1.104238</td>\n",
              "      <td>282.870561</td>\n",
              "      <td>2.105384</td>\n",
              "      <td>840.983963</td>\n",
              "      <td>0.524628</td>\n",
              "      <td>-1.407216</td>\n",
              "      <td>93.329977</td>\n",
              "      <td>-40.187629</td>\n",
              "      <td>1.886817</td>\n",
              "      <td>5086.135624</td>\n",
              "      <td>0.312715</td>\n",
              "    </tr>\n",
              "    <tr>\n",
              "      <th>technician</th>\n",
              "      <td>38.506971</td>\n",
              "      <td>1.094186</td>\n",
              "      <td>250.145654</td>\n",
              "      <td>2.576387</td>\n",
              "      <td>964.402996</td>\n",
              "      <td>0.153812</td>\n",
              "      <td>0.274444</td>\n",
              "      <td>93.561407</td>\n",
              "      <td>-39.928093</td>\n",
              "      <td>3.820247</td>\n",
              "      <td>5175.646114</td>\n",
              "      <td>0.108276</td>\n",
              "    </tr>\n",
              "    <tr>\n",
              "      <th>unemployed</th>\n",
              "      <td>39.738659</td>\n",
              "      <td>1.125247</td>\n",
              "      <td>249.451677</td>\n",
              "      <td>2.564103</td>\n",
              "      <td>935.316568</td>\n",
              "      <td>0.199211</td>\n",
              "      <td>-0.111736</td>\n",
              "      <td>93.563781</td>\n",
              "      <td>-40.007594</td>\n",
              "      <td>3.466583</td>\n",
              "      <td>5157.156509</td>\n",
              "      <td>0.142012</td>\n",
              "    </tr>\n",
              "    <tr>\n",
              "      <th>unknown</th>\n",
              "      <td>45.544073</td>\n",
              "      <td>1.060790</td>\n",
              "      <td>240.240122</td>\n",
              "      <td>2.644377</td>\n",
              "      <td>938.544073</td>\n",
              "      <td>0.155015</td>\n",
              "      <td>0.355623</td>\n",
              "      <td>93.718106</td>\n",
              "      <td>-38.805167</td>\n",
              "      <td>3.946252</td>\n",
              "      <td>5172.876900</td>\n",
              "      <td>0.112462</td>\n",
              "    </tr>\n",
              "  </tbody>\n",
              "</table>\n",
              "</div>\n",
              "      <button class=\"colab-df-convert\" onclick=\"convertToInteractive('df-ad41b9b4-87c3-4212-b02b-9e09e0436e12')\"\n",
              "              title=\"Convert this dataframe to an interactive table.\"\n",
              "              style=\"display:none;\">\n",
              "        \n",
              "  <svg xmlns=\"http://www.w3.org/2000/svg\" height=\"24px\"viewBox=\"0 0 24 24\"\n",
              "       width=\"24px\">\n",
              "    <path d=\"M0 0h24v24H0V0z\" fill=\"none\"/>\n",
              "    <path d=\"M18.56 5.44l.94 2.06.94-2.06 2.06-.94-2.06-.94-.94-2.06-.94 2.06-2.06.94zm-11 1L8.5 8.5l.94-2.06 2.06-.94-2.06-.94L8.5 2.5l-.94 2.06-2.06.94zm10 10l.94 2.06.94-2.06 2.06-.94-2.06-.94-.94-2.06-.94 2.06-2.06.94z\"/><path d=\"M17.41 7.96l-1.37-1.37c-.4-.4-.92-.59-1.43-.59-.52 0-1.04.2-1.43.59L10.3 9.45l-7.72 7.72c-.78.78-.78 2.05 0 2.83L4 21.41c.39.39.9.59 1.41.59.51 0 1.02-.2 1.41-.59l7.78-7.78 2.81-2.81c.8-.78.8-2.07 0-2.86zM5.41 20L4 18.59l7.72-7.72 1.47 1.35L5.41 20z\"/>\n",
              "  </svg>\n",
              "      </button>\n",
              "      \n",
              "  <style>\n",
              "    .colab-df-container {\n",
              "      display:flex;\n",
              "      flex-wrap:wrap;\n",
              "      gap: 12px;\n",
              "    }\n",
              "\n",
              "    .colab-df-convert {\n",
              "      background-color: #E8F0FE;\n",
              "      border: none;\n",
              "      border-radius: 50%;\n",
              "      cursor: pointer;\n",
              "      display: none;\n",
              "      fill: #1967D2;\n",
              "      height: 32px;\n",
              "      padding: 0 0 0 0;\n",
              "      width: 32px;\n",
              "    }\n",
              "\n",
              "    .colab-df-convert:hover {\n",
              "      background-color: #E2EBFA;\n",
              "      box-shadow: 0px 1px 2px rgba(60, 64, 67, 0.3), 0px 1px 3px 1px rgba(60, 64, 67, 0.15);\n",
              "      fill: #174EA6;\n",
              "    }\n",
              "\n",
              "    [theme=dark] .colab-df-convert {\n",
              "      background-color: #3B4455;\n",
              "      fill: #D2E3FC;\n",
              "    }\n",
              "\n",
              "    [theme=dark] .colab-df-convert:hover {\n",
              "      background-color: #434B5C;\n",
              "      box-shadow: 0px 1px 3px 1px rgba(0, 0, 0, 0.15);\n",
              "      filter: drop-shadow(0px 1px 2px rgba(0, 0, 0, 0.3));\n",
              "      fill: #FFFFFF;\n",
              "    }\n",
              "  </style>\n",
              "\n",
              "      <script>\n",
              "        const buttonEl =\n",
              "          document.querySelector('#df-ad41b9b4-87c3-4212-b02b-9e09e0436e12 button.colab-df-convert');\n",
              "        buttonEl.style.display =\n",
              "          google.colab.kernel.accessAllowed ? 'block' : 'none';\n",
              "\n",
              "        async function convertToInteractive(key) {\n",
              "          const element = document.querySelector('#df-ad41b9b4-87c3-4212-b02b-9e09e0436e12');\n",
              "          const dataTable =\n",
              "            await google.colab.kernel.invokeFunction('convertToInteractive',\n",
              "                                                     [key], {});\n",
              "          if (!dataTable) return;\n",
              "\n",
              "          const docLinkHtml = 'Like what you see? Visit the ' +\n",
              "            '<a target=\"_blank\" href=https://colab.research.google.com/notebooks/data_table.ipynb>data table notebook</a>'\n",
              "            + ' to learn more about interactive tables.';\n",
              "          element.innerHTML = '';\n",
              "          dataTable['output_type'] = 'display_data';\n",
              "          await google.colab.output.renderOutput(dataTable, element);\n",
              "          const docLink = document.createElement('div');\n",
              "          docLink.innerHTML = docLinkHtml;\n",
              "          element.appendChild(docLink);\n",
              "        }\n",
              "      </script>\n",
              "    </div>\n",
              "  </div>\n",
              "  "
            ]
          },
          "metadata": {},
          "execution_count": 307
        }
      ]
    },
    {
      "cell_type": "markdown",
      "source": [
        "III : marital"
      ],
      "metadata": {
        "id": "oJaJwXKbqwZt"
      }
    },
    {
      "cell_type": "code",
      "source": [
        "data.groupby(['marital']).mean()"
      ],
      "metadata": {
        "id": "GdX63GZPq0y3",
        "colab": {
          "base_uri": "https://localhost:8080/",
          "height": 364
        },
        "outputId": "5b582f7b-64d8-4018-aef4-32cd0089b1dc"
      },
      "execution_count": 308,
      "outputs": [
        {
          "output_type": "execute_result",
          "data": {
            "text/plain": [
              "                age   housing    duration  campaign       pdays  previous  \\\n",
              "marital                                                                     \n",
              "D         39.000000  1.500000   87.500000  1.250000  999.000000  0.000000   \n",
              "M         41.400000  0.800000  418.400000  2.600000  999.000000  0.200000   \n",
              "S         28.666667  1.333333  283.333333  2.000000  999.000000  0.000000   \n",
              "divorced  44.904080  1.066189  253.934679  2.614583  968.613498  0.168837   \n",
              "married   42.307026  1.062713  257.406332  2.572804  967.963528  0.155599   \n",
              "single    33.159187  1.094509  261.518720  2.533939  952.231474  0.211414   \n",
              "unknown   40.275000  0.887500  312.725000  3.187500  937.100000  0.275000   \n",
              "\n",
              "          emp_var_rate  cons_price_idx  cons_conf_idx  euribor3m  nr_employed  \\\n",
              "marital                                                                         \n",
              "D             1.250000       93.974250     -37.675000   4.909750  5209.550000   \n",
              "M            -0.960000       92.931400     -37.560000   2.589200  5141.540000   \n",
              "S            -0.233333       93.396333     -34.733333   3.531333  5152.733333   \n",
              "divorced      0.163043       93.606244     -40.709701   3.714567  5170.845074   \n",
              "married       0.183854       93.597501     -40.271203   3.746064  5171.854853   \n",
              "single       -0.167972       93.517331     -40.920303   3.317391  5155.199905   \n",
              "unknown      -0.221250       93.471250     -40.820000   3.313038  5157.393750   \n",
              "\n",
              "                 y  \n",
              "marital             \n",
              "D         0.000000  \n",
              "M         0.000000  \n",
              "S         0.000000  \n",
              "divorced  0.103299  \n",
              "married   0.101593  \n",
              "single    0.140078  \n",
              "unknown   0.150000  "
            ],
            "text/html": [
              "\n",
              "  <div id=\"df-e693b59e-d33b-4b2d-a3f0-4db4963fe094\">\n",
              "    <div class=\"colab-df-container\">\n",
              "      <div>\n",
              "<style scoped>\n",
              "    .dataframe tbody tr th:only-of-type {\n",
              "        vertical-align: middle;\n",
              "    }\n",
              "\n",
              "    .dataframe tbody tr th {\n",
              "        vertical-align: top;\n",
              "    }\n",
              "\n",
              "    .dataframe thead th {\n",
              "        text-align: right;\n",
              "    }\n",
              "</style>\n",
              "<table border=\"1\" class=\"dataframe\">\n",
              "  <thead>\n",
              "    <tr style=\"text-align: right;\">\n",
              "      <th></th>\n",
              "      <th>age</th>\n",
              "      <th>housing</th>\n",
              "      <th>duration</th>\n",
              "      <th>campaign</th>\n",
              "      <th>pdays</th>\n",
              "      <th>previous</th>\n",
              "      <th>emp_var_rate</th>\n",
              "      <th>cons_price_idx</th>\n",
              "      <th>cons_conf_idx</th>\n",
              "      <th>euribor3m</th>\n",
              "      <th>nr_employed</th>\n",
              "      <th>y</th>\n",
              "    </tr>\n",
              "    <tr>\n",
              "      <th>marital</th>\n",
              "      <th></th>\n",
              "      <th></th>\n",
              "      <th></th>\n",
              "      <th></th>\n",
              "      <th></th>\n",
              "      <th></th>\n",
              "      <th></th>\n",
              "      <th></th>\n",
              "      <th></th>\n",
              "      <th></th>\n",
              "      <th></th>\n",
              "      <th></th>\n",
              "    </tr>\n",
              "  </thead>\n",
              "  <tbody>\n",
              "    <tr>\n",
              "      <th>D</th>\n",
              "      <td>39.000000</td>\n",
              "      <td>1.500000</td>\n",
              "      <td>87.500000</td>\n",
              "      <td>1.250000</td>\n",
              "      <td>999.000000</td>\n",
              "      <td>0.000000</td>\n",
              "      <td>1.250000</td>\n",
              "      <td>93.974250</td>\n",
              "      <td>-37.675000</td>\n",
              "      <td>4.909750</td>\n",
              "      <td>5209.550000</td>\n",
              "      <td>0.000000</td>\n",
              "    </tr>\n",
              "    <tr>\n",
              "      <th>M</th>\n",
              "      <td>41.400000</td>\n",
              "      <td>0.800000</td>\n",
              "      <td>418.400000</td>\n",
              "      <td>2.600000</td>\n",
              "      <td>999.000000</td>\n",
              "      <td>0.200000</td>\n",
              "      <td>-0.960000</td>\n",
              "      <td>92.931400</td>\n",
              "      <td>-37.560000</td>\n",
              "      <td>2.589200</td>\n",
              "      <td>5141.540000</td>\n",
              "      <td>0.000000</td>\n",
              "    </tr>\n",
              "    <tr>\n",
              "      <th>S</th>\n",
              "      <td>28.666667</td>\n",
              "      <td>1.333333</td>\n",
              "      <td>283.333333</td>\n",
              "      <td>2.000000</td>\n",
              "      <td>999.000000</td>\n",
              "      <td>0.000000</td>\n",
              "      <td>-0.233333</td>\n",
              "      <td>93.396333</td>\n",
              "      <td>-34.733333</td>\n",
              "      <td>3.531333</td>\n",
              "      <td>5152.733333</td>\n",
              "      <td>0.000000</td>\n",
              "    </tr>\n",
              "    <tr>\n",
              "      <th>divorced</th>\n",
              "      <td>44.904080</td>\n",
              "      <td>1.066189</td>\n",
              "      <td>253.934679</td>\n",
              "      <td>2.614583</td>\n",
              "      <td>968.613498</td>\n",
              "      <td>0.168837</td>\n",
              "      <td>0.163043</td>\n",
              "      <td>93.606244</td>\n",
              "      <td>-40.709701</td>\n",
              "      <td>3.714567</td>\n",
              "      <td>5170.845074</td>\n",
              "      <td>0.103299</td>\n",
              "    </tr>\n",
              "    <tr>\n",
              "      <th>married</th>\n",
              "      <td>42.307026</td>\n",
              "      <td>1.062713</td>\n",
              "      <td>257.406332</td>\n",
              "      <td>2.572804</td>\n",
              "      <td>967.963528</td>\n",
              "      <td>0.155599</td>\n",
              "      <td>0.183854</td>\n",
              "      <td>93.597501</td>\n",
              "      <td>-40.271203</td>\n",
              "      <td>3.746064</td>\n",
              "      <td>5171.854853</td>\n",
              "      <td>0.101593</td>\n",
              "    </tr>\n",
              "    <tr>\n",
              "      <th>single</th>\n",
              "      <td>33.159187</td>\n",
              "      <td>1.094509</td>\n",
              "      <td>261.518720</td>\n",
              "      <td>2.533939</td>\n",
              "      <td>952.231474</td>\n",
              "      <td>0.211414</td>\n",
              "      <td>-0.167972</td>\n",
              "      <td>93.517331</td>\n",
              "      <td>-40.920303</td>\n",
              "      <td>3.317391</td>\n",
              "      <td>5155.199905</td>\n",
              "      <td>0.140078</td>\n",
              "    </tr>\n",
              "    <tr>\n",
              "      <th>unknown</th>\n",
              "      <td>40.275000</td>\n",
              "      <td>0.887500</td>\n",
              "      <td>312.725000</td>\n",
              "      <td>3.187500</td>\n",
              "      <td>937.100000</td>\n",
              "      <td>0.275000</td>\n",
              "      <td>-0.221250</td>\n",
              "      <td>93.471250</td>\n",
              "      <td>-40.820000</td>\n",
              "      <td>3.313038</td>\n",
              "      <td>5157.393750</td>\n",
              "      <td>0.150000</td>\n",
              "    </tr>\n",
              "  </tbody>\n",
              "</table>\n",
              "</div>\n",
              "      <button class=\"colab-df-convert\" onclick=\"convertToInteractive('df-e693b59e-d33b-4b2d-a3f0-4db4963fe094')\"\n",
              "              title=\"Convert this dataframe to an interactive table.\"\n",
              "              style=\"display:none;\">\n",
              "        \n",
              "  <svg xmlns=\"http://www.w3.org/2000/svg\" height=\"24px\"viewBox=\"0 0 24 24\"\n",
              "       width=\"24px\">\n",
              "    <path d=\"M0 0h24v24H0V0z\" fill=\"none\"/>\n",
              "    <path d=\"M18.56 5.44l.94 2.06.94-2.06 2.06-.94-2.06-.94-.94-2.06-.94 2.06-2.06.94zm-11 1L8.5 8.5l.94-2.06 2.06-.94-2.06-.94L8.5 2.5l-.94 2.06-2.06.94zm10 10l.94 2.06.94-2.06 2.06-.94-2.06-.94-.94-2.06-.94 2.06-2.06.94z\"/><path d=\"M17.41 7.96l-1.37-1.37c-.4-.4-.92-.59-1.43-.59-.52 0-1.04.2-1.43.59L10.3 9.45l-7.72 7.72c-.78.78-.78 2.05 0 2.83L4 21.41c.39.39.9.59 1.41.59.51 0 1.02-.2 1.41-.59l7.78-7.78 2.81-2.81c.8-.78.8-2.07 0-2.86zM5.41 20L4 18.59l7.72-7.72 1.47 1.35L5.41 20z\"/>\n",
              "  </svg>\n",
              "      </button>\n",
              "      \n",
              "  <style>\n",
              "    .colab-df-container {\n",
              "      display:flex;\n",
              "      flex-wrap:wrap;\n",
              "      gap: 12px;\n",
              "    }\n",
              "\n",
              "    .colab-df-convert {\n",
              "      background-color: #E8F0FE;\n",
              "      border: none;\n",
              "      border-radius: 50%;\n",
              "      cursor: pointer;\n",
              "      display: none;\n",
              "      fill: #1967D2;\n",
              "      height: 32px;\n",
              "      padding: 0 0 0 0;\n",
              "      width: 32px;\n",
              "    }\n",
              "\n",
              "    .colab-df-convert:hover {\n",
              "      background-color: #E2EBFA;\n",
              "      box-shadow: 0px 1px 2px rgba(60, 64, 67, 0.3), 0px 1px 3px 1px rgba(60, 64, 67, 0.15);\n",
              "      fill: #174EA6;\n",
              "    }\n",
              "\n",
              "    [theme=dark] .colab-df-convert {\n",
              "      background-color: #3B4455;\n",
              "      fill: #D2E3FC;\n",
              "    }\n",
              "\n",
              "    [theme=dark] .colab-df-convert:hover {\n",
              "      background-color: #434B5C;\n",
              "      box-shadow: 0px 1px 3px 1px rgba(0, 0, 0, 0.15);\n",
              "      filter: drop-shadow(0px 1px 2px rgba(0, 0, 0, 0.3));\n",
              "      fill: #FFFFFF;\n",
              "    }\n",
              "  </style>\n",
              "\n",
              "      <script>\n",
              "        const buttonEl =\n",
              "          document.querySelector('#df-e693b59e-d33b-4b2d-a3f0-4db4963fe094 button.colab-df-convert');\n",
              "        buttonEl.style.display =\n",
              "          google.colab.kernel.accessAllowed ? 'block' : 'none';\n",
              "\n",
              "        async function convertToInteractive(key) {\n",
              "          const element = document.querySelector('#df-e693b59e-d33b-4b2d-a3f0-4db4963fe094');\n",
              "          const dataTable =\n",
              "            await google.colab.kernel.invokeFunction('convertToInteractive',\n",
              "                                                     [key], {});\n",
              "          if (!dataTable) return;\n",
              "\n",
              "          const docLinkHtml = 'Like what you see? Visit the ' +\n",
              "            '<a target=\"_blank\" href=https://colab.research.google.com/notebooks/data_table.ipynb>data table notebook</a>'\n",
              "            + ' to learn more about interactive tables.';\n",
              "          element.innerHTML = '';\n",
              "          dataTable['output_type'] = 'display_data';\n",
              "          await google.colab.output.renderOutput(dataTable, element);\n",
              "          const docLink = document.createElement('div');\n",
              "          docLink.innerHTML = docLinkHtml;\n",
              "          element.appendChild(docLink);\n",
              "        }\n",
              "      </script>\n",
              "    </div>\n",
              "  </div>\n",
              "  "
            ]
          },
          "metadata": {},
          "execution_count": 308
        }
      ]
    },
    {
      "cell_type": "markdown",
      "source": [
        "IV : education"
      ],
      "metadata": {
        "id": "cPjfQt6vq9H-"
      }
    },
    {
      "cell_type": "code",
      "source": [
        "data.groupby(['education']).mean()"
      ],
      "metadata": {
        "id": "HOLpZQK7rCdt",
        "colab": {
          "base_uri": "https://localhost:8080/",
          "height": 301
        },
        "outputId": "83252348-d0aa-4ab8-8aea-98d4ab5a3c46"
      },
      "execution_count": 309,
      "outputs": [
        {
          "output_type": "execute_result",
          "data": {
            "text/plain": [
              "                           age   housing    duration  campaign       pdays  \\\n",
              "education                                                                    \n",
              "Basic                42.324066  1.049705  262.964476  2.563957  972.247122   \n",
              "high.school          37.998318  1.059800  260.886810  2.568576  964.358382   \n",
              "illiterate           48.500000  1.111111  276.777778  2.277778  943.833333   \n",
              "professional.course  40.079725  1.106428  252.533855  2.586115  962.482548   \n",
              "university.degree    38.877712  1.091798  253.223373  2.563527  953.286982   \n",
              "\n",
              "                     previous  emp_var_rate  cons_price_idx  cons_conf_idx  \\\n",
              "education                                                                    \n",
              "Basic                0.151432      0.175260       93.642204     -40.800021   \n",
              "high.school          0.185917      0.032937       93.584857     -40.940641   \n",
              "illiterate           0.111111     -0.133333       93.317333     -39.950000   \n",
              "professional.course  0.163075      0.173012       93.569864     -40.124108   \n",
              "university.degree    0.192390     -0.028090       93.493466     -39.975805   \n",
              "\n",
              "                     euribor3m  nr_employed         y  \n",
              "education                                              \n",
              "Basic                 3.710385  5170.499354  0.094075  \n",
              "high.school           3.556157  5164.994735  0.108355  \n",
              "illiterate            3.516556  5171.777778  0.222222  \n",
              "professional.course   3.710457  5170.155979  0.113485  \n",
              "university.degree     3.529663  5163.226298  0.137245  "
            ],
            "text/html": [
              "\n",
              "  <div id=\"df-c7d334f0-c333-4e8a-8e64-a56102e8608a\">\n",
              "    <div class=\"colab-df-container\">\n",
              "      <div>\n",
              "<style scoped>\n",
              "    .dataframe tbody tr th:only-of-type {\n",
              "        vertical-align: middle;\n",
              "    }\n",
              "\n",
              "    .dataframe tbody tr th {\n",
              "        vertical-align: top;\n",
              "    }\n",
              "\n",
              "    .dataframe thead th {\n",
              "        text-align: right;\n",
              "    }\n",
              "</style>\n",
              "<table border=\"1\" class=\"dataframe\">\n",
              "  <thead>\n",
              "    <tr style=\"text-align: right;\">\n",
              "      <th></th>\n",
              "      <th>age</th>\n",
              "      <th>housing</th>\n",
              "      <th>duration</th>\n",
              "      <th>campaign</th>\n",
              "      <th>pdays</th>\n",
              "      <th>previous</th>\n",
              "      <th>emp_var_rate</th>\n",
              "      <th>cons_price_idx</th>\n",
              "      <th>cons_conf_idx</th>\n",
              "      <th>euribor3m</th>\n",
              "      <th>nr_employed</th>\n",
              "      <th>y</th>\n",
              "    </tr>\n",
              "    <tr>\n",
              "      <th>education</th>\n",
              "      <th></th>\n",
              "      <th></th>\n",
              "      <th></th>\n",
              "      <th></th>\n",
              "      <th></th>\n",
              "      <th></th>\n",
              "      <th></th>\n",
              "      <th></th>\n",
              "      <th></th>\n",
              "      <th></th>\n",
              "      <th></th>\n",
              "      <th></th>\n",
              "    </tr>\n",
              "  </thead>\n",
              "  <tbody>\n",
              "    <tr>\n",
              "      <th>Basic</th>\n",
              "      <td>42.324066</td>\n",
              "      <td>1.049705</td>\n",
              "      <td>262.964476</td>\n",
              "      <td>2.563957</td>\n",
              "      <td>972.247122</td>\n",
              "      <td>0.151432</td>\n",
              "      <td>0.175260</td>\n",
              "      <td>93.642204</td>\n",
              "      <td>-40.800021</td>\n",
              "      <td>3.710385</td>\n",
              "      <td>5170.499354</td>\n",
              "      <td>0.094075</td>\n",
              "    </tr>\n",
              "    <tr>\n",
              "      <th>high.school</th>\n",
              "      <td>37.998318</td>\n",
              "      <td>1.059800</td>\n",
              "      <td>260.886810</td>\n",
              "      <td>2.568576</td>\n",
              "      <td>964.358382</td>\n",
              "      <td>0.185917</td>\n",
              "      <td>0.032937</td>\n",
              "      <td>93.584857</td>\n",
              "      <td>-40.940641</td>\n",
              "      <td>3.556157</td>\n",
              "      <td>5164.994735</td>\n",
              "      <td>0.108355</td>\n",
              "    </tr>\n",
              "    <tr>\n",
              "      <th>illiterate</th>\n",
              "      <td>48.500000</td>\n",
              "      <td>1.111111</td>\n",
              "      <td>276.777778</td>\n",
              "      <td>2.277778</td>\n",
              "      <td>943.833333</td>\n",
              "      <td>0.111111</td>\n",
              "      <td>-0.133333</td>\n",
              "      <td>93.317333</td>\n",
              "      <td>-39.950000</td>\n",
              "      <td>3.516556</td>\n",
              "      <td>5171.777778</td>\n",
              "      <td>0.222222</td>\n",
              "    </tr>\n",
              "    <tr>\n",
              "      <th>professional.course</th>\n",
              "      <td>40.079725</td>\n",
              "      <td>1.106428</td>\n",
              "      <td>252.533855</td>\n",
              "      <td>2.586115</td>\n",
              "      <td>962.482548</td>\n",
              "      <td>0.163075</td>\n",
              "      <td>0.173012</td>\n",
              "      <td>93.569864</td>\n",
              "      <td>-40.124108</td>\n",
              "      <td>3.710457</td>\n",
              "      <td>5170.155979</td>\n",
              "      <td>0.113485</td>\n",
              "    </tr>\n",
              "    <tr>\n",
              "      <th>university.degree</th>\n",
              "      <td>38.877712</td>\n",
              "      <td>1.091798</td>\n",
              "      <td>253.223373</td>\n",
              "      <td>2.563527</td>\n",
              "      <td>953.286982</td>\n",
              "      <td>0.192390</td>\n",
              "      <td>-0.028090</td>\n",
              "      <td>93.493466</td>\n",
              "      <td>-39.975805</td>\n",
              "      <td>3.529663</td>\n",
              "      <td>5163.226298</td>\n",
              "      <td>0.137245</td>\n",
              "    </tr>\n",
              "  </tbody>\n",
              "</table>\n",
              "</div>\n",
              "      <button class=\"colab-df-convert\" onclick=\"convertToInteractive('df-c7d334f0-c333-4e8a-8e64-a56102e8608a')\"\n",
              "              title=\"Convert this dataframe to an interactive table.\"\n",
              "              style=\"display:none;\">\n",
              "        \n",
              "  <svg xmlns=\"http://www.w3.org/2000/svg\" height=\"24px\"viewBox=\"0 0 24 24\"\n",
              "       width=\"24px\">\n",
              "    <path d=\"M0 0h24v24H0V0z\" fill=\"none\"/>\n",
              "    <path d=\"M18.56 5.44l.94 2.06.94-2.06 2.06-.94-2.06-.94-.94-2.06-.94 2.06-2.06.94zm-11 1L8.5 8.5l.94-2.06 2.06-.94-2.06-.94L8.5 2.5l-.94 2.06-2.06.94zm10 10l.94 2.06.94-2.06 2.06-.94-2.06-.94-.94-2.06-.94 2.06-2.06.94z\"/><path d=\"M17.41 7.96l-1.37-1.37c-.4-.4-.92-.59-1.43-.59-.52 0-1.04.2-1.43.59L10.3 9.45l-7.72 7.72c-.78.78-.78 2.05 0 2.83L4 21.41c.39.39.9.59 1.41.59.51 0 1.02-.2 1.41-.59l7.78-7.78 2.81-2.81c.8-.78.8-2.07 0-2.86zM5.41 20L4 18.59l7.72-7.72 1.47 1.35L5.41 20z\"/>\n",
              "  </svg>\n",
              "      </button>\n",
              "      \n",
              "  <style>\n",
              "    .colab-df-container {\n",
              "      display:flex;\n",
              "      flex-wrap:wrap;\n",
              "      gap: 12px;\n",
              "    }\n",
              "\n",
              "    .colab-df-convert {\n",
              "      background-color: #E8F0FE;\n",
              "      border: none;\n",
              "      border-radius: 50%;\n",
              "      cursor: pointer;\n",
              "      display: none;\n",
              "      fill: #1967D2;\n",
              "      height: 32px;\n",
              "      padding: 0 0 0 0;\n",
              "      width: 32px;\n",
              "    }\n",
              "\n",
              "    .colab-df-convert:hover {\n",
              "      background-color: #E2EBFA;\n",
              "      box-shadow: 0px 1px 2px rgba(60, 64, 67, 0.3), 0px 1px 3px 1px rgba(60, 64, 67, 0.15);\n",
              "      fill: #174EA6;\n",
              "    }\n",
              "\n",
              "    [theme=dark] .colab-df-convert {\n",
              "      background-color: #3B4455;\n",
              "      fill: #D2E3FC;\n",
              "    }\n",
              "\n",
              "    [theme=dark] .colab-df-convert:hover {\n",
              "      background-color: #434B5C;\n",
              "      box-shadow: 0px 1px 3px 1px rgba(0, 0, 0, 0.15);\n",
              "      filter: drop-shadow(0px 1px 2px rgba(0, 0, 0, 0.3));\n",
              "      fill: #FFFFFF;\n",
              "    }\n",
              "  </style>\n",
              "\n",
              "      <script>\n",
              "        const buttonEl =\n",
              "          document.querySelector('#df-c7d334f0-c333-4e8a-8e64-a56102e8608a button.colab-df-convert');\n",
              "        buttonEl.style.display =\n",
              "          google.colab.kernel.accessAllowed ? 'block' : 'none';\n",
              "\n",
              "        async function convertToInteractive(key) {\n",
              "          const element = document.querySelector('#df-c7d334f0-c333-4e8a-8e64-a56102e8608a');\n",
              "          const dataTable =\n",
              "            await google.colab.kernel.invokeFunction('convertToInteractive',\n",
              "                                                     [key], {});\n",
              "          if (!dataTable) return;\n",
              "\n",
              "          const docLinkHtml = 'Like what you see? Visit the ' +\n",
              "            '<a target=\"_blank\" href=https://colab.research.google.com/notebooks/data_table.ipynb>data table notebook</a>'\n",
              "            + ' to learn more about interactive tables.';\n",
              "          element.innerHTML = '';\n",
              "          dataTable['output_type'] = 'display_data';\n",
              "          await google.colab.output.renderOutput(dataTable, element);\n",
              "          const docLink = document.createElement('div');\n",
              "          docLink.innerHTML = docLinkHtml;\n",
              "          element.appendChild(docLink);\n",
              "        }\n",
              "      </script>\n",
              "    </div>\n",
              "  </div>\n",
              "  "
            ]
          },
          "metadata": {},
          "execution_count": 309
        }
      ]
    },
    {
      "cell_type": "markdown",
      "source": [
        "Section III : Exploratory Data Analysis"
      ],
      "metadata": {
        "id": "WeUAAFlDrcGs"
      }
    },
    {
      "cell_type": "markdown",
      "source": [
        "Part I : Create bar graphs to the frequency of purchase with respect to the job , martial etc"
      ],
      "metadata": {
        "id": "ujjp63jxrfyI"
      }
    },
    {
      "cell_type": "markdown",
      "source": [
        "# Visualizations"
      ],
      "metadata": {
        "id": "Pu0RMevckeNX"
      }
    },
    {
      "cell_type": "code",
      "source": [
        "%matplotlib inline\n",
        "pd.crosstab(data.job,data.y).plot(kind='bar')\n",
        "plt.title('Purchase Frequency for Job Title')\n",
        "plt.xlabel('Job')\n",
        "plt.ylabel('Frequency of Purchase')\n",
        "plt.savefig('purchase_fre_job')\n"
      ],
      "metadata": {
        "id": "7nNPpe1IrmtM",
        "colab": {
          "base_uri": "https://localhost:8080/",
          "height": 370
        },
        "outputId": "d78dc5c9-7cf5-4545-963a-72f4f5d9e640"
      },
      "execution_count": 310,
      "outputs": [
        {
          "output_type": "display_data",
          "data": {
            "text/plain": [
              "<Figure size 432x288 with 1 Axes>"
            ],
            "image/png": "[encoded data removed]"
          },
          "metadata": {
            "needs_background": "light"
          }
        }
      ]
    },
    {
      "cell_type": "markdown",
      "source": [
        "The frequency of purchase of the deposit depends a great deal on the job title. Thus, job title can be a good predictor of the outcome variable."
      ],
      "metadata": {
        "id": "qyxhDcX5klso"
      }
    },
    {
      "cell_type": "code",
      "source": [
        "table=pd.crosstab(data.marital,data.y) \n",
        "table.div(table.sum(1).astype(float), axis=0).plot(kind='bar',stacked=True)\n",
        "plt.title('Stacked Bar Chart of Marital Status vs Purchase')\n",
        "plt.xlabel('Marital Status')\n",
        "plt.ylabel('Proportion of Customers')\n",
        "plt.savefig('marital_vs_pur_stack')"
      ],
      "metadata": {
        "id": "iTyW4_IowQ1Y",
        "colab": {
          "base_uri": "https://localhost:8080/",
          "height": 341
        },
        "outputId": "97294bcc-71d4-4777-9126-f37c6b01de88"
      },
      "execution_count": 311,
      "outputs": [
        {
          "output_type": "display_data",
          "data": {
            "text/plain": [
              "<Figure size 432x288 with 1 Axes>"
            ],
            "image/png": "[encoded data removed]"
          },
          "metadata": {
            "needs_background": "light"
          }
        }
      ]
    },
    {
      "cell_type": "markdown",
      "source": [
        "The marital status does not seem a strong predictor for the outcome variable"
      ],
      "metadata": {
        "id": "YGL0hcffk8yn"
      }
    },
    {
      "cell_type": "markdown",
      "source": [
        "Part II : Also create stacked bars to same data columns with respect to"
      ],
      "metadata": {
        "id": "qKqGU39SvZH1"
      }
    },
    {
      "cell_type": "code",
      "source": [
        "table=pd.crosstab(data.education,data.y)\n",
        "table.div(table.sum(1).astype(float),axis=0).plot(kind='bar',stacked=True)\n",
        "plt.title('Stacked Bar Chart of Education vs Purchase')\n",
        "plt.xlabel('Education')\n",
        "plt.ylabel('Proportion of Customers')\n",
        "plt.savefig('edu_vs_pur_stack')"
      ],
      "metadata": {
        "id": "N9sbYKGuvs5M",
        "colab": {
          "base_uri": "https://localhost:8080/",
          "height": 398
        },
        "outputId": "afc7dd9f-2282-4b7a-ecc5-16ea7895ef8f"
      },
      "execution_count": 312,
      "outputs": [
        {
          "output_type": "display_data",
          "data": {
            "text/plain": [
              "<Figure size 432x288 with 1 Axes>"
            ],
            "image/png": "[encoded data removed]"
          },
          "metadata": {
            "needs_background": "light"
          }
        }
      ]
    },
    {
      "cell_type": "markdown",
      "source": [
        "Education seems a good predictor of the outcome variable."
      ],
      "metadata": {
        "id": "8SCMKUvOlTK_"
      }
    },
    {
      "cell_type": "code",
      "source": [
        "pd.crosstab(data.day_of_week,data.y).plot(kind='bar')\n",
        "plt.title('Purchase Frequency for Day of Week')\n",
        "plt.xlabel('Day of Week')\n",
        "plt.ylabel('Frequency of Purchase')\n",
        "plt.savefig('pur_dayofweek_bar')"
      ],
      "metadata": {
        "id": "JZkf-0lMxPut",
        "colab": {
          "base_uri": "https://localhost:8080/",
          "height": 315
        },
        "outputId": "347c4dda-dd48-4f28-de85-b90601614390"
      },
      "execution_count": 313,
      "outputs": [
        {
          "output_type": "display_data",
          "data": {
            "text/plain": [
              "<Figure size 432x288 with 1 Axes>"
            ],
            "image/png": "[encoded data removed]"
          },
          "metadata": {
            "needs_background": "light"
          }
        }
      ]
    },
    {
      "cell_type": "markdown",
      "source": [
        "Day of the week may not be a good predictor of the outcome."
      ],
      "metadata": {
        "id": "nD9z2MyQleNr"
      }
    },
    {
      "cell_type": "code",
      "source": [
        "pd.crosstab(data.month,data.y).plot(kind='bar')\n",
        "plt.title('Purchase Frequency for Month')\n",
        "plt.xlabel('Month')\n",
        "plt.ylabel('Frequency of Purchase')\n",
        "plt.savefig('pur_fre_month_bar')"
      ],
      "metadata": {
        "id": "q_GekwbDxuvR",
        "colab": {
          "base_uri": "https://localhost:8080/",
          "height": 315
        },
        "outputId": "e08ab0c3-e7a9-4e24-8367-6771ba084530"
      },
      "execution_count": 314,
      "outputs": [
        {
          "output_type": "display_data",
          "data": {
            "text/plain": [
              "<Figure size 432x288 with 1 Axes>"
            ],
            "image/png": "[encoded data removed]"
          },
          "metadata": {
            "needs_background": "light"
          }
        }
      ]
    },
    {
      "cell_type": "markdown",
      "source": [
        "Month might be a good predictor of the outcome variable."
      ],
      "metadata": {
        "id": "3eOK5tn3lo2h"
      }
    },
    {
      "cell_type": "markdown",
      "source": [
        "Part III : Explore the age column using a histogram and note down your observations"
      ],
      "metadata": {
        "id": "FPA_NpsbyjU5"
      }
    },
    {
      "cell_type": "code",
      "source": [
        "data.age.hist()\n",
        "plt.title('Histogram of Age')\n",
        "plt.xlabel('Age')\n",
        "plt.ylabel('Frequency')\n",
        "plt.savefig('hist_age')"
      ],
      "metadata": {
        "id": "WTTER9Caynez",
        "colab": {
          "base_uri": "https://localhost:8080/",
          "height": 301
        },
        "outputId": "eea05038-e722-4362-aadc-9959b9c9fa51"
      },
      "execution_count": 315,
      "outputs": [
        {
          "output_type": "display_data",
          "data": {
            "text/plain": [
              "<Figure size 432x288 with 1 Axes>"
            ],
            "image/png": "[encoded data removed]"
          },
          "metadata": {
            "needs_background": "light"
          }
        }
      ]
    },
    {
      "cell_type": "markdown",
      "source": [
        "Most of the customers of the bank are in this dataset in the age range of 30-40."
      ],
      "metadata": {
        "id": "c57pQMaZmZF2"
      }
    },
    {
      "cell_type": "code",
      "source": [
        "pd.crosstab(data.poutcome,data.y).plot(kind='bar')\n",
        "plt.title('Purchase Frequency for Poutcome')\n",
        "plt.xlabel('Poutcome')\n",
        "plt.ylabel('Frequency of Purchase')\n",
        "plt.savefig('pur_fre_pout_bar')"
      ],
      "metadata": {
        "id": "YRkzYuaWmX2j",
        "colab": {
          "base_uri": "https://localhost:8080/",
          "height": 356
        },
        "outputId": "5946d381-bc3e-45f7-bdf7-7bd4f6192f54"
      },
      "execution_count": 316,
      "outputs": [
        {
          "output_type": "display_data",
          "data": {
            "text/plain": [
              "<Figure size 432x288 with 1 Axes>"
            ],
            "image/png": "[encoded data removed]"
          },
          "metadata": {
            "needs_background": "light"
          }
        }
      ]
    },
    {
      "cell_type": "markdown",
      "source": [
        "Section IV : Categorical Variable Encoding"
      ],
      "metadata": {
        "id": "bvH5Y32ezC_k"
      }
    },
    {
      "cell_type": "code",
      "source": [
        "data['education'].value_counts()"
      ],
      "metadata": {
        "colab": {
          "base_uri": "https://localhost:8080/"
        },
        "id": "Fa3yc04VoDRu",
        "outputId": "65bdcd49-812e-42e1-c140-5aa41edf01c4"
      },
      "execution_count": 317,
      "outputs": [
        {
          "output_type": "execute_result",
          "data": {
            "text/plain": [
              "Basic                  14244\n",
              "university.degree      12168\n",
              "high.school             9515\n",
              "professional.course     5243\n",
              "illiterate                18\n",
              "Name: education, dtype: int64"
            ]
          },
          "metadata": {},
          "execution_count": 317
        }
      ]
    },
    {
      "cell_type": "code",
      "source": [
        "data['job'].value_counts()"
      ],
      "metadata": {
        "colab": {
          "base_uri": "https://localhost:8080/"
        },
        "id": "kxB7NY4goocs",
        "outputId": "6dc76c8f-d8c0-4f0d-c4e3-c46a75559899"
      },
      "execution_count": 318,
      "outputs": [
        {
          "output_type": "execute_result",
          "data": {
            "text/plain": [
              "admin.           10420\n",
              "blue-collar       9253\n",
              "technician        6742\n",
              "services          3966\n",
              "management        2923\n",
              "retired           1717\n",
              "entrepreneur      1456\n",
              "self-employed     1421\n",
              "housemaid         1059\n",
              "unemployed        1014\n",
              "student            873\n",
              "unknown            329\n",
              "RETIRED              3\n",
              "SERVICES             3\n",
              "STUDENT              2\n",
              "ADMIN.               2\n",
              "MANAGEMENT           1\n",
              "TECHNICIAN           1\n",
              "BLUE-COLLAR          1\n",
              "HOUSEMAID            1\n",
              "UNKNOWN              1\n",
              "Name: job, dtype: int64"
            ]
          },
          "metadata": {},
          "execution_count": 318
        }
      ]
    },
    {
      "cell_type": "code",
      "source": [
        "data['job'].replace(['unknown', 'UNKNOWN','RETIRED','SERVICES','STUDENT','ADMIN.','MANAGEMENT','TECHNICIAN','BLUE-COLLAR','HOUSEMAID'], ['admin.', 'admin.','retired','services','student','admin.','management','technician','blue-collar','housemaid'], inplace=True)\n"
      ],
      "metadata": {
        "id": "fPz4VQ2qqTKc"
      },
      "execution_count": 319,
      "outputs": []
    },
    {
      "cell_type": "code",
      "source": [
        "data['marital'].value_counts()"
      ],
      "metadata": {
        "colab": {
          "base_uri": "https://localhost:8080/"
        },
        "id": "csjYqkV7rC2w",
        "outputId": "53dd054c-c357-4507-b7e5-2c92c4b0d438"
      },
      "execution_count": 320,
      "outputs": [
        {
          "output_type": "execute_result",
          "data": {
            "text/plain": [
              "married     24923\n",
              "single      11565\n",
              "divorced     4608\n",
              "unknown        80\n",
              "M               5\n",
              "D               4\n",
              "S               3\n",
              "Name: marital, dtype: int64"
            ]
          },
          "metadata": {},
          "execution_count": 320
        }
      ]
    },
    {
      "cell_type": "code",
      "source": [
        "data['marital'].replace(['unknown','M','D','S'],['married','married','divorced','single'],inplace=True)"
      ],
      "metadata": {
        "id": "13MW_ptbq0vs"
      },
      "execution_count": 321,
      "outputs": []
    },
    {
      "cell_type": "code",
      "source": [
        "data['default'].value_counts()"
      ],
      "metadata": {
        "colab": {
          "base_uri": "https://localhost:8080/"
        },
        "id": "j-wRefU-r5Fw",
        "outputId": "8282d913-b15a-48d2-8fb6-96eb0268c572"
      },
      "execution_count": 322,
      "outputs": [
        {
          "output_type": "execute_result",
          "data": {
            "text/plain": [
              "no         32588\n",
              "unknown     8597\n",
              "yes            3\n",
              "Name: default, dtype: int64"
            ]
          },
          "metadata": {},
          "execution_count": 322
        }
      ]
    },
    {
      "cell_type": "code",
      "source": [
        "data['default'].replace(['unknown'],['no'],inplace=True)"
      ],
      "metadata": {
        "id": "-C-diCySsi6S"
      },
      "execution_count": 323,
      "outputs": []
    },
    {
      "cell_type": "code",
      "source": [
        "data.info()"
      ],
      "metadata": {
        "colab": {
          "base_uri": "https://localhost:8080/"
        },
        "id": "A7DYt_4gs_HX",
        "outputId": "a68e8329-3a14-47c9-970c-44d45b816aeb"
      },
      "execution_count": 324,
      "outputs": [
        {
          "output_type": "stream",
          "name": "stdout",
          "text": [
            "<class 'pandas.core.frame.DataFrame'>\n",
            "RangeIndex: 41188 entries, 0 to 41187\n",
            "Data columns (total 21 columns):\n",
            " #   Column          Non-Null Count  Dtype  \n",
            "---  ------          --------------  -----  \n",
            " 0   age             41188 non-null  int64  \n",
            " 1   job             41188 non-null  object \n",
            " 2   marital         41188 non-null  object \n",
            " 3   education       41188 non-null  object \n",
            " 4   default         41188 non-null  object \n",
            " 5   housing         41188 non-null  int64  \n",
            " 6   loan            41188 non-null  object \n",
            " 7   contact         41188 non-null  object \n",
            " 8   month           41188 non-null  object \n",
            " 9   day_of_week     41188 non-null  object \n",
            " 10  duration        41188 non-null  int64  \n",
            " 11  campaign        41188 non-null  int64  \n",
            " 12  pdays           41188 non-null  float64\n",
            " 13  previous        41188 non-null  int64  \n",
            " 14  poutcome        41188 non-null  object \n",
            " 15  emp_var_rate    41188 non-null  float64\n",
            " 16  cons_price_idx  41188 non-null  float64\n",
            " 17  cons_conf_idx   41188 non-null  float64\n",
            " 18  euribor3m       41188 non-null  float64\n",
            " 19  nr_employed     41188 non-null  float64\n",
            " 20  y               41188 non-null  int64  \n",
            "dtypes: float64(6), int64(6), object(9)\n",
            "memory usage: 6.6+ MB\n"
          ]
        }
      ]
    },
    {
      "cell_type": "code",
      "source": [
        "data['loan'].value_counts()"
      ],
      "metadata": {
        "colab": {
          "base_uri": "https://localhost:8080/"
        },
        "id": "QuulD-8fs4VG",
        "outputId": "0658d5e4-ed27-4a02-af05-b010e21bc4f4"
      },
      "execution_count": 325,
      "outputs": [
        {
          "output_type": "execute_result",
          "data": {
            "text/plain": [
              "no         33950\n",
              "yes         6248\n",
              "unknown      990\n",
              "Name: loan, dtype: int64"
            ]
          },
          "metadata": {},
          "execution_count": 325
        }
      ]
    },
    {
      "cell_type": "code",
      "source": [
        "data['loan'].replace(['unknown'],['no'],inplace=True)\n"
      ],
      "metadata": {
        "id": "Xi2uRF6Vs2xf"
      },
      "execution_count": 326,
      "outputs": []
    },
    {
      "cell_type": "code",
      "source": [
        "data['contact'].value_counts()"
      ],
      "metadata": {
        "colab": {
          "base_uri": "https://localhost:8080/"
        },
        "id": "sxGBIN3Wtwcf",
        "outputId": "1976947e-4ee5-4a19-e8be-d199a39089cf"
      },
      "execution_count": 327,
      "outputs": [
        {
          "output_type": "execute_result",
          "data": {
            "text/plain": [
              "cellular     26144\n",
              "telephone    15044\n",
              "Name: contact, dtype: int64"
            ]
          },
          "metadata": {},
          "execution_count": 327
        }
      ]
    },
    {
      "cell_type": "code",
      "source": [
        "data['poutcome'].value_counts()"
      ],
      "metadata": {
        "colab": {
          "base_uri": "https://localhost:8080/"
        },
        "id": "UZYKz0kqtwW1",
        "outputId": "991e9c19-c2b0-4716-c155-5862f0827d8d"
      },
      "execution_count": 328,
      "outputs": [
        {
          "output_type": "execute_result",
          "data": {
            "text/plain": [
              "nonexistent    35563\n",
              "failure         4252\n",
              "success         1373\n",
              "Name: poutcome, dtype: int64"
            ]
          },
          "metadata": {},
          "execution_count": 328
        }
      ]
    },
    {
      "cell_type": "code",
      "source": [
        "#label encoding \n",
        "from sklearn.preprocessing import LabelEncoder\n",
        "encoder = LabelEncoder()\n",
        "\n",
        "data[\"education\"]=encoder.fit_transform(data[\"education\"])\n",
        "data[\"job\"]=encoder.fit_transform(data[\"job\"])\n",
        "data[\"day_of_week\"]=encoder.fit_transform(data[\"day_of_week\"])\n",
        "data[\"month\"]=encoder.fit_transform(data[\"month\"])\n",
        "data['poutcome']=encoder.fit_transform(data[\"poutcome\"])\n"
      ],
      "metadata": {
        "id": "6ucc-4iIfvPI"
      },
      "execution_count": 329,
      "outputs": []
    },
    {
      "cell_type": "code",
      "source": [
        "data.info()"
      ],
      "metadata": {
        "colab": {
          "base_uri": "https://localhost:8080/"
        },
        "id": "R0S71YqwxdDv",
        "outputId": "639ef2d0-b4cf-4506-f9c4-245b09f2bebf"
      },
      "execution_count": 330,
      "outputs": [
        {
          "output_type": "stream",
          "name": "stdout",
          "text": [
            "<class 'pandas.core.frame.DataFrame'>\n",
            "RangeIndex: 41188 entries, 0 to 41187\n",
            "Data columns (total 21 columns):\n",
            " #   Column          Non-Null Count  Dtype  \n",
            "---  ------          --------------  -----  \n",
            " 0   age             41188 non-null  int64  \n",
            " 1   job             41188 non-null  int64  \n",
            " 2   marital         41188 non-null  object \n",
            " 3   education       41188 non-null  int64  \n",
            " 4   default         41188 non-null  object \n",
            " 5   housing         41188 non-null  int64  \n",
            " 6   loan            41188 non-null  object \n",
            " 7   contact         41188 non-null  object \n",
            " 8   month           41188 non-null  int64  \n",
            " 9   day_of_week     41188 non-null  int64  \n",
            " 10  duration        41188 non-null  int64  \n",
            " 11  campaign        41188 non-null  int64  \n",
            " 12  pdays           41188 non-null  float64\n",
            " 13  previous        41188 non-null  int64  \n",
            " 14  poutcome        41188 non-null  int64  \n",
            " 15  emp_var_rate    41188 non-null  float64\n",
            " 16  cons_price_idx  41188 non-null  float64\n",
            " 17  cons_conf_idx   41188 non-null  float64\n",
            " 18  euribor3m       41188 non-null  float64\n",
            " 19  nr_employed     41188 non-null  float64\n",
            " 20  y               41188 non-null  int64  \n",
            "dtypes: float64(6), int64(11), object(4)\n",
            "memory usage: 6.6+ MB\n"
          ]
        }
      ]
    },
    {
      "cell_type": "code",
      "source": [],
      "metadata": {
        "id": "0kubak2XmHDB"
      },
      "execution_count": 330,
      "outputs": []
    },
    {
      "cell_type": "markdown",
      "source": [
        "Part I : Create dummy variables for your categorial variables"
      ],
      "metadata": {
        "id": "oBHzq-ZpzL4j"
      }
    },
    {
      "cell_type": "markdown",
      "source": [
        "part II : Explore your new dataset with these new dummy variables !"
      ],
      "metadata": {
        "id": "gHhqOQvozSOe"
      }
    },
    {
      "cell_type": "code",
      "source": [
        "\n",
        "cat_vars = ['marital','loan','contact','default']\n",
        "for var in cat_vars:\n",
        "\n",
        "  cat_list =pd.get_dummies(data[var],drop_first= True)\n",
        "  data1=pd.concat([data,cat_list],axis=1)\n",
        "  \n",
        " \n",
        "# cat_vars=['job','marital','education','default','housing','loan','contact', 'month', 'day_of_week','poutcome']\n",
        "# data_vars=data.columns.values.tolist()\n",
        "# to_keep=[i for i in data_vars if i not in cat_vars]\n",
        "\n",
        "data = data1.drop(cat_vars,axis=1)\n"
      ],
      "metadata": {
        "id": "e11Ir1GPzQ71"
      },
      "execution_count": 331,
      "outputs": []
    },
    {
      "cell_type": "code",
      "source": [
        "data.info()"
      ],
      "metadata": {
        "colab": {
          "base_uri": "https://localhost:8080/"
        },
        "id": "HDL33yZQztfe",
        "outputId": "87d4eebc-e1d2-404b-b66b-9bca071914c0"
      },
      "execution_count": 332,
      "outputs": [
        {
          "output_type": "stream",
          "name": "stdout",
          "text": [
            "<class 'pandas.core.frame.DataFrame'>\n",
            "RangeIndex: 41188 entries, 0 to 41187\n",
            "Data columns (total 18 columns):\n",
            " #   Column          Non-Null Count  Dtype  \n",
            "---  ------          --------------  -----  \n",
            " 0   age             41188 non-null  int64  \n",
            " 1   job             41188 non-null  int64  \n",
            " 2   education       41188 non-null  int64  \n",
            " 3   housing         41188 non-null  int64  \n",
            " 4   month           41188 non-null  int64  \n",
            " 5   day_of_week     41188 non-null  int64  \n",
            " 6   duration        41188 non-null  int64  \n",
            " 7   campaign        41188 non-null  int64  \n",
            " 8   pdays           41188 non-null  float64\n",
            " 9   previous        41188 non-null  int64  \n",
            " 10  poutcome        41188 non-null  int64  \n",
            " 11  emp_var_rate    41188 non-null  float64\n",
            " 12  cons_price_idx  41188 non-null  float64\n",
            " 13  cons_conf_idx   41188 non-null  float64\n",
            " 14  euribor3m       41188 non-null  float64\n",
            " 15  nr_employed     41188 non-null  float64\n",
            " 16  y               41188 non-null  int64  \n",
            " 17  yes             41188 non-null  uint8  \n",
            "dtypes: float64(6), int64(11), uint8(1)\n",
            "memory usage: 5.4 MB\n"
          ]
        }
      ]
    },
    {
      "cell_type": "markdown",
      "source": [
        "Section V : Preliminary Training"
      ],
      "metadata": {
        "id": "O0mw1pEq2KWj"
      }
    },
    {
      "cell_type": "code",
      "source": [
        "data.columns"
      ],
      "metadata": {
        "colab": {
          "base_uri": "https://localhost:8080/"
        },
        "id": "YraTK-eF0gyg",
        "outputId": "96609069-2add-4f9a-f6bc-2fac57288e3b"
      },
      "execution_count": 333,
      "outputs": [
        {
          "output_type": "execute_result",
          "data": {
            "text/plain": [
              "Index(['age', 'job', 'education', 'housing', 'month', 'day_of_week',\n",
              "       'duration', 'campaign', 'pdays', 'previous', 'poutcome', 'emp_var_rate',\n",
              "       'cons_price_idx', 'cons_conf_idx', 'euribor3m', 'nr_employed', 'y',\n",
              "       'yes'],\n",
              "      dtype='object')"
            ]
          },
          "metadata": {},
          "execution_count": 333
        }
      ]
    },
    {
      "cell_type": "code",
      "source": [
        "X = data.drop('y',axis=1)\n",
        "y = data['y']"
      ],
      "metadata": {
        "id": "utZmiG5z0Qqa"
      },
      "execution_count": 334,
      "outputs": []
    },
    {
      "cell_type": "code",
      "source": [
        "y.value_counts()"
      ],
      "metadata": {
        "colab": {
          "base_uri": "https://localhost:8080/"
        },
        "id": "b7RjKGGV0u-D",
        "outputId": "64741869-150e-4a52-cc1b-1d752a248d76"
      },
      "execution_count": 335,
      "outputs": [
        {
          "output_type": "execute_result",
          "data": {
            "text/plain": [
              "0    36548\n",
              "1     4640\n",
              "Name: y, dtype: int64"
            ]
          },
          "metadata": {},
          "execution_count": 335
        }
      ]
    },
    {
      "cell_type": "markdown",
      "source": [
        "Part I : Import your Logisitc Regression libraries"
      ],
      "metadata": {
        "id": "_sOLUTTl2M5p"
      }
    },
    {
      "cell_type": "code",
      "source": [
        "\n",
        "from sklearn.linear_model import LogisticRegression\n",
        "from sklearn.model_selection import train_test_split\n",
        "\n"
      ],
      "metadata": {
        "id": "u5Qs9WHm2S_O"
      },
      "execution_count": 336,
      "outputs": []
    },
    {
      "cell_type": "markdown",
      "source": [
        "Part II : Split your train and test dataset and train on the data"
      ],
      "metadata": {
        "id": "fCIOItY42p-b"
      }
    },
    {
      "cell_type": "code",
      "source": [
        "X_train, X_test, y_train, y_test = train_test_split(X,y,test_size=0.3, random_state=0)\n",
        "logreg = LogisticRegression()\n",
        "logreg.fit(X_train, y_train)"
      ],
      "metadata": {
        "id": "Xzt0GSvQ2u0j",
        "colab": {
          "base_uri": "https://localhost:8080/"
        },
        "outputId": "2bc48893-2603-42ed-da43-5f3138bbf297"
      },
      "execution_count": 337,
      "outputs": [
        {
          "output_type": "stream",
          "name": "stderr",
          "text": [
            "/usr/local/lib/python3.7/dist-packages/sklearn/linear_model/_logistic.py:818: ConvergenceWarning: lbfgs failed to converge (status=1):\n",
            "STOP: TOTAL NO. of ITERATIONS REACHED LIMIT.\n",
            "\n",
            "Increase the number of iterations (max_iter) or scale the data as shown in:\n",
            "    https://scikit-learn.org/stable/modules/preprocessing.html\n",
            "Please also refer to the documentation for alternative solver options:\n",
            "    https://scikit-learn.org/stable/modules/linear_model.html#logistic-regression\n",
            "  extra_warning_msg=_LOGISTIC_SOLVER_CONVERGENCE_MSG,\n"
          ]
        },
        {
          "output_type": "execute_result",
          "data": {
            "text/plain": [
              "LogisticRegression()"
            ]
          },
          "metadata": {},
          "execution_count": 337
        }
      ]
    },
    {
      "cell_type": "markdown",
      "source": [
        "Part III : Make note of the classification report and other metrics"
      ],
      "metadata": {
        "id": "ZcOb9Fhk3r4a"
      }
    },
    {
      "cell_type": "code",
      "source": [
        "#Predicting the test result and calculating the accuracy\n",
        "\n",
        "y_pred = logreg.predict(X_test)\n",
        "\n",
        "y_pred"
      ],
      "metadata": {
        "id": "73Y2hVBj3tGV",
        "colab": {
          "base_uri": "https://localhost:8080/"
        },
        "outputId": "a49d423b-bad3-41c8-b5a5-16b959b2569f"
      },
      "execution_count": 338,
      "outputs": [
        {
          "output_type": "execute_result",
          "data": {
            "text/plain": [
              "array([0, 0, 0, ..., 0, 0, 0])"
            ]
          },
          "metadata": {},
          "execution_count": 338
        }
      ]
    },
    {
      "cell_type": "code",
      "source": [
        "#Confusion Matrix\n",
        "from sklearn.metrics import confusion_matrix, classification_report\n",
        "confusion_matrix =confusion_matrix(y_test, y_pred)\n",
        "print(confusion_matrix)\n",
        "print(classification_report(y_test, y_pred))\n"
      ],
      "metadata": {
        "id": "eBMq7yQ_4YZz",
        "colab": {
          "base_uri": "https://localhost:8080/"
        },
        "outputId": "f6d63950-99fe-4504-d179-7f188a6e8c01"
      },
      "execution_count": 339,
      "outputs": [
        {
          "output_type": "stream",
          "name": "stdout",
          "text": [
            "[[10711   270]\n",
            " [  828   548]]\n",
            "              precision    recall  f1-score   support\n",
            "\n",
            "           0       0.93      0.98      0.95     10981\n",
            "           1       0.67      0.40      0.50      1376\n",
            "\n",
            "    accuracy                           0.91     12357\n",
            "   macro avg       0.80      0.69      0.73     12357\n",
            "weighted avg       0.90      0.91      0.90     12357\n",
            "\n"
          ]
        }
      ]
    },
    {
      "cell_type": "markdown",
      "source": [
        "Section VI : Let's Improve the performance !"
      ],
      "metadata": {
        "id": "-r2XRTG3Et--"
      }
    },
    {
      "cell_type": "markdown",
      "source": [
        "Part 0 : What was your answer to Section - Part IV? Do you think class imbalance affects the model performance? Explore SMOTE implementation"
      ],
      "metadata": {
        "id": "fzbIydOLE7Bd"
      }
    },
    {
      "cell_type": "markdown",
      "source": [
        "Part 0 : What was your answer to Section - Part IV? Do you think class imbalance affects the model performance? Explore SMOTE implementation"
      ],
      "metadata": {
        "id": "VvLFddBaE8mY"
      }
    },
    {
      "cell_type": "markdown",
      "source": [
        "Part I : Make note of the performance from the last training"
      ],
      "metadata": {
        "id": "MeIRhhlqFOWS"
      }
    },
    {
      "cell_type": "markdown",
      "source": [
        "Part II : Try implementing SMOTE to balance the two class labels"
      ],
      "metadata": {
        "id": "sMprwRgsFT9m"
      }
    },
    {
      "cell_type": "code",
      "source": [
        "\n",
        "\n",
        "from imblearn.over_sampling import SMOTE\n",
        "os = SMOTE()\n",
        "\n",
        "\n",
        "os_data_X,os_data_y=os.fit_resample(X_train, y_train)\n",
        "# os_data_X=pd.DataFrame(data=os_data_X,columns=columns)\n",
        "# os_data_y=pd.DataFrame(data=os_data_y,columns['y'])\n",
        "\n",
        "#We can check the numbers of our data\n",
        "\n",
        "# print(\"length of oversampled data is \", len(os_dats_X))\n",
        "# print(\"Number of no subscription in oversampled data\", len(os_data_y[os_data_y[os_data_y['y==1']))\n",
        "# print(\"Proportion of no suscription data in oversampled data is \", len(os_data_y[os_data_y['y']==0])/len(os_data_X))\n",
        "# print(\"Proportion of no suscription data in oversampled data is \", len(os_data_y[os_data_y['y']==1])/len(os_data_X))\n",
        "os_data_y.value_counts()"
      ],
      "metadata": {
        "id": "ZM9su33QFgLz",
        "colab": {
          "base_uri": "https://localhost:8080/"
        },
        "outputId": "37514499-6275-4f0c-8e38-8a1160dcd764"
      },
      "execution_count": 340,
      "outputs": [
        {
          "output_type": "execute_result",
          "data": {
            "text/plain": [
              "0    25567\n",
              "1    25567\n",
              "Name: y, dtype: int64"
            ]
          },
          "metadata": {},
          "execution_count": 340
        }
      ]
    },
    {
      "cell_type": "markdown",
      "source": [
        "Part III : Make note of the y label data now , what are the rations now ?"
      ],
      "metadata": {
        "id": "3yfdKLMoJrzl"
      }
    },
    {
      "cell_type": "markdown",
      "source": [
        "We have balanced the data and now we have equal aounts of 0 and 1s for training."
      ],
      "metadata": {
        "id": "k1uc-L2a4ox8"
      }
    },
    {
      "cell_type": "markdown",
      "source": [
        "Section VII : Let us Re-Train!"
      ],
      "metadata": {
        "id": "bXmfK85kJtWK"
      }
    },
    {
      "cell_type": "code",
      "source": [
        "y_test.head()"
      ],
      "metadata": {
        "colab": {
          "base_uri": "https://localhost:8080/"
        },
        "id": "WQWDDA1z5ezn",
        "outputId": "afc487e1-58eb-47d2-eaa3-87d4aa808afc"
      },
      "execution_count": 341,
      "outputs": [
        {
          "output_type": "execute_result",
          "data": {
            "text/plain": [
              "15500    0\n",
              "29034    0\n",
              "11199    0\n",
              "22247    0\n",
              "27180    0\n",
              "Name: y, dtype: int64"
            ]
          },
          "metadata": {},
          "execution_count": 341
        }
      ]
    },
    {
      "cell_type": "code",
      "source": [
        "logreg.fit(os_data_X, os_data_y)\n",
        "y_os_pred = logreg.predict(X_test)"
      ],
      "metadata": {
        "colab": {
          "base_uri": "https://localhost:8080/"
        },
        "id": "pIfS5HSw4-6z",
        "outputId": "143c6d9a-1fdb-4a66-f270-2f9f13719f2f"
      },
      "execution_count": 342,
      "outputs": [
        {
          "output_type": "stream",
          "name": "stderr",
          "text": [
            "/usr/local/lib/python3.7/dist-packages/sklearn/linear_model/_logistic.py:818: ConvergenceWarning: lbfgs failed to converge (status=1):\n",
            "STOP: TOTAL NO. of ITERATIONS REACHED LIMIT.\n",
            "\n",
            "Increase the number of iterations (max_iter) or scale the data as shown in:\n",
            "    https://scikit-learn.org/stable/modules/preprocessing.html\n",
            "Please also refer to the documentation for alternative solver options:\n",
            "    https://scikit-learn.org/stable/modules/linear_model.html#logistic-regression\n",
            "  extra_warning_msg=_LOGISTIC_SOLVER_CONVERGENCE_MSG,\n"
          ]
        }
      ]
    },
    {
      "cell_type": "code",
      "source": [
        "\n",
        "print(classification_report(y_test,y_os_pred))"
      ],
      "metadata": {
        "colab": {
          "base_uri": "https://localhost:8080/"
        },
        "id": "JaUBME-M5V9a",
        "outputId": "d4ec4a7c-2af7-4d0b-baad-d91744d79ccc"
      },
      "execution_count": 351,
      "outputs": [
        {
          "output_type": "stream",
          "name": "stdout",
          "text": [
            "              precision    recall  f1-score   support\n",
            "\n",
            "           0       0.98      0.85      0.91     10981\n",
            "           1       0.41      0.85      0.56      1376\n",
            "\n",
            "    accuracy                           0.85     12357\n",
            "   macro avg       0.70      0.85      0.73     12357\n",
            "weighted avg       0.92      0.85      0.87     12357\n",
            "\n"
          ]
        }
      ]
    },
    {
      "cell_type": "markdown",
      "source": [
        "Part I : Explore what RFE means"
      ],
      "metadata": {
        "id": "Y-4g9ld6J64o"
      }
    },
    {
      "cell_type": "markdown",
      "source": [
        "Recursive Feature Elimination(RFE) - Repeatedly construct a model and choose either the best or worst performinf feature and repeating the processwith rest of the features untill all eatures in the dataset are exhausted. RFE selects features recursively and considers smaller sets of features."
      ],
      "metadata": {
        "id": "6wR-oYMYKTJn"
      }
    },
    {
      "cell_type": "markdown",
      "source": [
        "Part II : Implement your training process inside the RFE"
      ],
      "metadata": {
        "id": "QKL6H4x-LU_6"
      }
    },
    {
      "cell_type": "code",
      "source": [
        "\n",
        "\n",
        "from sklearn.feature_selection import RFE\n",
        "rfe = RFE(logreg)\n",
        "rfe = rfe.fit(os_data_X,os_data_y)\n",
        "\n",
        "rfe.ranking_\n",
        "rfe.support_\n",
        "\n"
      ],
      "metadata": {
        "id": "nQz9jhelLWQk",
        "colab": {
          "base_uri": "https://localhost:8080/"
        },
        "outputId": "86f9ffbf-8b97-48e9-a41e-50b179f2f1a0"
      },
      "execution_count": 358,
      "outputs": [
        {
          "output_type": "stream",
          "name": "stderr",
          "text": [
            "/usr/local/lib/python3.7/dist-packages/sklearn/linear_model/_logistic.py:818: ConvergenceWarning: lbfgs failed to converge (status=1):\n",
            "STOP: TOTAL NO. of ITERATIONS REACHED LIMIT.\n",
            "\n",
            "Increase the number of iterations (max_iter) or scale the data as shown in:\n",
            "    https://scikit-learn.org/stable/modules/preprocessing.html\n",
            "Please also refer to the documentation for alternative solver options:\n",
            "    https://scikit-learn.org/stable/modules/linear_model.html#logistic-regression\n",
            "  extra_warning_msg=_LOGISTIC_SOLVER_CONVERGENCE_MSG,\n",
            "/usr/local/lib/python3.7/dist-packages/sklearn/linear_model/_logistic.py:818: ConvergenceWarning: lbfgs failed to converge (status=1):\n",
            "STOP: TOTAL NO. of ITERATIONS REACHED LIMIT.\n",
            "\n",
            "Increase the number of iterations (max_iter) or scale the data as shown in:\n",
            "    https://scikit-learn.org/stable/modules/preprocessing.html\n",
            "Please also refer to the documentation for alternative solver options:\n",
            "    https://scikit-learn.org/stable/modules/linear_model.html#logistic-regression\n",
            "  extra_warning_msg=_LOGISTIC_SOLVER_CONVERGENCE_MSG,\n",
            "/usr/local/lib/python3.7/dist-packages/sklearn/linear_model/_logistic.py:818: ConvergenceWarning: lbfgs failed to converge (status=1):\n",
            "STOP: TOTAL NO. of ITERATIONS REACHED LIMIT.\n",
            "\n",
            "Increase the number of iterations (max_iter) or scale the data as shown in:\n",
            "    https://scikit-learn.org/stable/modules/preprocessing.html\n",
            "Please also refer to the documentation for alternative solver options:\n",
            "    https://scikit-learn.org/stable/modules/linear_model.html#logistic-regression\n",
            "  extra_warning_msg=_LOGISTIC_SOLVER_CONVERGENCE_MSG,\n",
            "/usr/local/lib/python3.7/dist-packages/sklearn/linear_model/_logistic.py:818: ConvergenceWarning: lbfgs failed to converge (status=1):\n",
            "STOP: TOTAL NO. of ITERATIONS REACHED LIMIT.\n",
            "\n",
            "Increase the number of iterations (max_iter) or scale the data as shown in:\n",
            "    https://scikit-learn.org/stable/modules/preprocessing.html\n",
            "Please also refer to the documentation for alternative solver options:\n",
            "    https://scikit-learn.org/stable/modules/linear_model.html#logistic-regression\n",
            "  extra_warning_msg=_LOGISTIC_SOLVER_CONVERGENCE_MSG,\n",
            "/usr/local/lib/python3.7/dist-packages/sklearn/linear_model/_logistic.py:818: ConvergenceWarning: lbfgs failed to converge (status=1):\n",
            "STOP: TOTAL NO. of ITERATIONS REACHED LIMIT.\n",
            "\n",
            "Increase the number of iterations (max_iter) or scale the data as shown in:\n",
            "    https://scikit-learn.org/stable/modules/preprocessing.html\n",
            "Please also refer to the documentation for alternative solver options:\n",
            "    https://scikit-learn.org/stable/modules/linear_model.html#logistic-regression\n",
            "  extra_warning_msg=_LOGISTIC_SOLVER_CONVERGENCE_MSG,\n",
            "/usr/local/lib/python3.7/dist-packages/sklearn/linear_model/_logistic.py:818: ConvergenceWarning: lbfgs failed to converge (status=1):\n",
            "STOP: TOTAL NO. of ITERATIONS REACHED LIMIT.\n",
            "\n",
            "Increase the number of iterations (max_iter) or scale the data as shown in:\n",
            "    https://scikit-learn.org/stable/modules/preprocessing.html\n",
            "Please also refer to the documentation for alternative solver options:\n",
            "    https://scikit-learn.org/stable/modules/linear_model.html#logistic-regression\n",
            "  extra_warning_msg=_LOGISTIC_SOLVER_CONVERGENCE_MSG,\n",
            "/usr/local/lib/python3.7/dist-packages/sklearn/linear_model/_logistic.py:818: ConvergenceWarning: lbfgs failed to converge (status=1):\n",
            "STOP: TOTAL NO. of ITERATIONS REACHED LIMIT.\n",
            "\n",
            "Increase the number of iterations (max_iter) or scale the data as shown in:\n",
            "    https://scikit-learn.org/stable/modules/preprocessing.html\n",
            "Please also refer to the documentation for alternative solver options:\n",
            "    https://scikit-learn.org/stable/modules/linear_model.html#logistic-regression\n",
            "  extra_warning_msg=_LOGISTIC_SOLVER_CONVERGENCE_MSG,\n",
            "/usr/local/lib/python3.7/dist-packages/sklearn/linear_model/_logistic.py:818: ConvergenceWarning: lbfgs failed to converge (status=1):\n",
            "STOP: TOTAL NO. of ITERATIONS REACHED LIMIT.\n",
            "\n",
            "Increase the number of iterations (max_iter) or scale the data as shown in:\n",
            "    https://scikit-learn.org/stable/modules/preprocessing.html\n",
            "Please also refer to the documentation for alternative solver options:\n",
            "    https://scikit-learn.org/stable/modules/linear_model.html#logistic-regression\n",
            "  extra_warning_msg=_LOGISTIC_SOLVER_CONVERGENCE_MSG,\n"
          ]
        },
        {
          "output_type": "execute_result",
          "data": {
            "text/plain": [
              "array([False, False,  True,  True,  True,  True, False,  True, False,\n",
              "       False,  True, False, False,  True,  True, False, False])"
            ]
          },
          "metadata": {},
          "execution_count": 358
        }
      ]
    },
    {
      "cell_type": "markdown",
      "source": [
        "Part III : What are the best columns that your RFE found? Please make a list of it"
      ],
      "metadata": {
        "id": "J2gTV-fHMuVa"
      }
    },
    {
      "cell_type": "code",
      "source": [
        "rfe.ranking_"
      ],
      "metadata": {
        "colab": {
          "base_uri": "https://localhost:8080/"
        },
        "id": "LCNbRczQ9Pv1",
        "outputId": "43e41019-bdd7-4788-bb17-880184e1b343"
      },
      "execution_count": 359,
      "outputs": [
        {
          "output_type": "execute_result",
          "data": {
            "text/plain": [
              "array([ 8,  4,  1,  1,  1,  1,  7,  1,  9,  3,  1,  5,  2,  1,  1,  6, 10])"
            ]
          },
          "metadata": {},
          "execution_count": 359
        }
      ]
    }
  ]
}